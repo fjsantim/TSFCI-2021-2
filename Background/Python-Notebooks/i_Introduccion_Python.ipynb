{
 "cells": [
  {
   "cell_type": "markdown",
   "metadata": {
    "id": "iKE44QLMrDp9"
   },
   "source": [
    "\n",
    "**Introducción a Python**  by Karen Cruz in licensed under <a href=\"https://creativecommons.org/licenses/by-nc-nd/4.0?ref=chooser-v1\">Attribution-NonCommercial-NoDerivatives 4.0 International</a>\n",
    "\n",
    "\n",
    "<font size=4 color='royalblue'>\n",
    "\n",
    "## Lenguaje de Programación Python.\n",
    "\n",
    "> ### Introducción al Lenguaje de Programación Python."
   ]
  },
  {
   "cell_type": "markdown",
   "metadata": {
    "id": "EtT4x4HLrDqD"
   },
   "source": [
    "<font size=4>\n",
    "\n",
    " En el presente notebook se abordaran los siguientes temas:\n",
    "\n",
    "1. Características del lenguaje de programación Python.\n",
    "\n",
    "\n",
    "2. Tipos de objetos Python.\n",
    "\n",
    "\n",
    "3. Operaciones matemáticas, lógicas y relacionales.\n",
    "\n",
    "\n",
    "4. Entrada y salida de datos.\n",
    "\n",
    "\n",
    "5. Secuencias: Listas, tuplas y cadenas.\n",
    "\n",
    "\n",
    "6. Diccionarios\n",
    "\n",
    "Con los cuales se podra tener un manejo fluido con los principales objetos de python.\n",
    "\n",
    "Con lo aprendido en este nb tendras las herramientas básicas para programar con Python.\n",
    "\n",
    "\n",
    "___"
   ]
  },
  {
   "cell_type": "markdown",
   "metadata": {
    "id": "2yklVkzRrDqE"
   },
   "source": [
    "<font size=4 color='royalblue'>\n",
    "\n",
    " # 1. Características del lenguaje de programación Python."
   ]
  },
  {
   "cell_type": "markdown",
   "metadata": {
    "id": "OirulXxNrDqE"
   },
   "source": [
    "<font size=4 color='rosybrown'>\n",
    "\n",
    "> **Los lenguajes de programación son lenguajes formales que se diseñaron para expresar cálculos.**"
   ]
  },
  {
   "cell_type": "markdown",
   "metadata": {
    "id": "mG-562XqrDqF"
   },
   "source": [
    "<font size=4>\n",
    "\n",
    "Los lenguajes formales son diseñados por las personas para aplicaciones específicas, por ejemplo, la notación matemática, la notación química, etc.\n",
    "\n",
    "Los lenguajes formales tienden a tener reglas estrictas sobre la sintaxis.\n",
    "\n",
    "\n",
    "Los lenguajes de programación tienen una sintaxis particular compuesta por palabras en inglés."
   ]
  },
  {
   "cell_type": "markdown",
   "metadata": {
    "id": "ySbY_Gr-rDqF"
   },
   "source": [
    "<font size=4 color='rosybrown'>\n",
    "\n",
    "> **Python es un lenguaje de programación de alto nivel.**"
   ]
  },
  {
   "cell_type": "markdown",
   "metadata": {
    "id": "MxIUAHryrDqG"
   },
   "source": [
    "<font size=4>\n",
    "\n",
    "Los lenguajes de alto nivel son aquellos que tienen que ser procesados antes de que puedan ejecutarse.\n",
    "\n",
    "A continuación se mencionan algunas características de los lenguajes de alto nivel:\n",
    "\n",
    "   1. Son más faciles de programar.\n",
    "\n",
    "\n",
    "   2. Toma menos tiempo escribirlos.\n",
    "\n",
    "\n",
    "   3. Son mas cortos y faciles de leer.\n",
    "\n",
    "\n",
    "   4. Son portables (se pueden ejecutar en diferentes tipos de computadoras con pocas o ninguna modificación).\n",
    "\n",
    "\n",
    "Cuando se procesa un lenguaje de alto nivel, se convierte en un lenguaje de bajo nivel, que son los lenguajes que las computadoras pueden entender y ejecutar."
   ]
  },
  {
   "cell_type": "markdown",
   "metadata": {
    "id": "J2j34ryirDqG"
   },
   "source": [
    "<font size=4 color='rosybrown'>\n",
    "\n",
    "> **Python es un lenguaje de programación orientado a objetos.**"
   ]
  },
  {
   "cell_type": "markdown",
   "metadata": {
    "id": "pKd2yz8trDqG"
   },
   "source": [
    "<font size=4 >\n",
    "\n",
    " Todo en Python es un objeto. Cada objeto tiene una serie de **atributos** (que indicarán su estado) y de **métodos** (que marcarán su comportamiento).\n",
    "\n",
    " *NOTA: En otro notebook se verá con mas detalle su uso.*"
   ]
  },
  {
   "cell_type": "markdown",
   "metadata": {
    "id": "AOZawGharDqG"
   },
   "source": [
    "___"
   ]
  },
  {
   "cell_type": "markdown",
   "metadata": {
    "id": "oY5RCdxZrDqH"
   },
   "source": [
    "<font size=4 >\n",
    "\n",
    "**Lo que necesitas recordar:**\n",
    "\n",
    "  * Ejecute sus celdas usando SHIFT+ENTER (o usando el botón \"run cell\")"
   ]
  },
  {
   "cell_type": "markdown",
   "metadata": {
    "id": "zn7b9EUcrDqH"
   },
   "source": [
    "___"
   ]
  },
  {
   "cell_type": "markdown",
   "metadata": {},
   "source": [
    "<font size=4 color='rosybrown'>\n",
    "    \n",
    "> ## 1.1 La cocina\n",
    "    \n",
    "<font color='black'>\n",
    "    \n",
    "Imagina que programar es como cocinar: para poder cocinar necesitas un espacio donde están las herramientas y propiamente utensilios como ollas, sartenes, cucharas, etc.\n",
    "    \n",
    "En la programación es igual, necesitas una aplicación donde poder escribir tu código y posteriormente _ejecutarlo_ para ver si cumple su función o no.\n",
    "    \n",
    "La cocina en este caso es esta aplicación web llamada __Jupyter Notebook__. Para poder escribir código en esta aplicación debes hacer clic en el botón + que está en la parte superior, se desplegará una celda con un par de corchetes a la derecha, en esta celda puedes escribir el código que deseas ejecutar usando el botón de play que se encuentra a la derecha del botón +.\n",
    "    \n",
    "También es posible escribir texto como en cualquier documento, para ello en la barra de herramientas donde dice `code` al desplegar el menú y seleccionar `markdown` la celda se convierte a modo texto y todo lo que escribas ahí no se podrá ejecutar por python y puede no ser código sino texto, imagenes, listas, etc."
   ]
  },
  {
   "cell_type": "code",
   "execution_count": null,
   "metadata": {},
   "outputs": [],
   "source": [
    "# Esta es una celda de código"
   ]
  },
  {
   "cell_type": "markdown",
   "metadata": {
    "id": "G9Fy8mifrDqH"
   },
   "source": [
    "<font size=4 color='royalblue'>\n",
    "\n",
    "# 2. Tipos de objetos Python."
   ]
  },
  {
   "cell_type": "markdown",
   "metadata": {},
   "source": [
    "<font size=4>\n",
    "\n",
    "En Python hay diferentes tipos de objetos, a continuación se mencionan los más comunes:"
   ]
  },
  {
   "cell_type": "code",
   "execution_count": 13,
   "metadata": {
    "jupyter": {
     "source_hidden": true
    },
    "tags": []
   },
   "outputs": [
    {
     "data": {
      "text/html": [
       "\n",
       "<style>\n",
       "td,th {\n",
       "  font-size: 16px\n",
       "}\n",
       "</style>\n"
      ],
      "text/plain": [
       "<IPython.core.display.HTML object>"
      ]
     },
     "metadata": {},
     "output_type": "display_data"
    }
   ],
   "source": [
    "%%HTML\n",
    "\n",
    "<style>\n",
    "td,th {\n",
    "  font-size: 16px\n",
    "}\n",
    "</style>"
   ]
  },
  {
   "cell_type": "markdown",
   "metadata": {
    "id": "FppQfBperDqH"
   },
   "source": [
    "\n",
    "    \n",
    "<div class=\"table-container\">\n",
    "\n",
    "| Tipo de dato | Valores | Simbolo | Descripción |\n",
    "|:-:|:-:|:-:|:-|\n",
    "|integer/enteros    | números enteros                      | `int`   | No tienen parte decimal pueden ser naturales positivos o negativos y 0. |\n",
    "|float/flotante     | números reales                       | `float` | Puede ser positivo o negativo y con punto decimal también puede ser con notación cientifica |\n",
    "| string/cadenas    | secuencia de caracteres              | `str`   | Cualquier secuecia de caracteres: letras, números, simbolos, espacios, etc.|\n",
    "| boolean/booleanos | verdaderos o falsos                  | `bool`  | Los únicos valores son verdadero (True) y falso (False) |\n",
    "| list/lista        | secuencia mutable de objetos                 | `list`  | Una lista de objetos: enteros, flotantes, cadenas, otras listas, etc. Su longitud puede cambiar después de ser definida |\n",
    "| tuple/tupla       | secuencia inmutable de objetos       | `tuple` | Una lista de objetos al igual que list pero una vez definida no es posible modificar su contenido |\n",
    "| dict/diccionario  | diccionario                          | `dict`  | Un diccionario de datos donde mediante una llave se accede a algún objeto |\n",
    "    \n",
    "</div>"
   ]
  },
  {
   "cell_type": "markdown",
   "metadata": {},
   "source": [
    "<font size=4>    \n",
    "**Una *variable* (etiqueta) es un nombre que se le asigna a un objeto.**\n",
    "\n",
    "**Para conocer el  tipo de objeto de una variable se usa la función `type( )`.**\n"
   ]
  },
  {
   "cell_type": "markdown",
   "metadata": {},
   "source": [
    "<font size=4 color='rosybrown'>\n",
    "    \n",
    "> ## 2.1 ¿Qué es una variable?\n",
    "    \n",
    "<font color='black'>\n",
    "\n",
    "Las computadoras necesitan un espacio donde almacenar información, a este espacio se le llama memoria y es un componente físico que tiene toda computadora.\n",
    "\n",
    "La memoria tiene un limite de cuanta información puede contener, y toda la información que se muestra en la computadora ocupa un lugar en la memoria.\n",
    "\n",
    "Por ejemplo, imagina el valor `5`, este valor se guarda en la memoria pero ¿como puedes usar este valor para hacer una operación en el futuro? Como el `5` es un valor pequeño es fácil de recordar y puedes escribirlo nuevamente en la computadora pero piensa en el valor de la velocidad de la luz que es `299792458` metros por segundo, ¿verdad que ya no es fácil de recordar este número?\n",
    "\n",
    "Entonces para poder trabajar con este número se guarda en la memoria pero para poder usarlo le das una etiqueta, un nombre asociado al valor, que sea fácil de recordar, por ejemplo: `velodidadLuz`. De este modo si en el futuro deseas usar este valor en lugar de escribirlo puedes llamarlo escribiendo su nombre."
   ]
  },
  {
   "cell_type": "markdown",
   "metadata": {},
   "source": [
    "<font size=4 color='rosybrown'>\n",
    "    \n",
    "> ## 2.2 ¿Como crear una variable?\n",
    "\n",
    "<font color='black'>\n",
    "    \n",
    "Para crear una variable se escribe el nombre que le vas a asignar en una celda de código (`Code`), el signo de igualdad $(=)$ y el valor que le darás a la variable."
   ]
  },
  {
   "cell_type": "markdown",
   "metadata": {
    "id": "h7nC7iFprDqI"
   },
   "source": [
    "<font size=4 color='cornflowerblue'>\n",
    "\n",
    "**NOTA**\n",
    "\n",
    "El simbolo `=` se usa para asignar un valor a una variable, no para indicar igualdad.\n",
    "\n",
    "Para indicar que dos variables son iguales se usa el símbolo `==` y para indicar que son diferentes se usa el símbolo `!=`.\n",
    "\n",
    "Los comentarios en Python se indican con un # al inicio.\n"
   ]
  },
  {
   "cell_type": "markdown",
   "metadata": {
    "id": "1xiKKlaerDqI"
   },
   "source": [
    "<font size=4 color='rosybrown'>\n",
    "\n",
    "**Ejemplo**\n",
    "\n",
    "<font size=4 color='black'>\n",
    "\n",
    "\n",
    "\n",
    "  A continuación se asigna el valor 13.0 a la etiqueta `float_example`:"
   ]
  },
  {
   "cell_type": "code",
   "execution_count": 14,
   "metadata": {
    "id": "eRQhs4OwrDqI",
    "scrolled": true
   },
   "outputs": [],
   "source": [
    "float_example = 13.0\n",
    "\n",
    "# etiqueta = valor"
   ]
  },
  {
   "cell_type": "markdown",
   "metadata": {},
   "source": [
    "___"
   ]
  },
  {
   "cell_type": "markdown",
   "metadata": {
    "id": "hPaZa8_CrDqK"
   },
   "source": [
    "<font size=4>\n",
    "\n",
    "Para imprimir en pantalla el valor de una variable, hay dos formas de hacerlo:\n",
    "\n",
    "   1. Llamar a la variable con su nombre\n",
    "\n",
    "\n",
    "   2. Llamarlo con la función  `print( )`."
   ]
  },
  {
   "cell_type": "code",
   "execution_count": null,
   "metadata": {
    "colab": {
     "base_uri": "https://localhost:8080/"
    },
    "id": "d11NQh5BrDqK",
    "outputId": "001d27a2-cb36-4536-dfc9-57fd67fe6c02"
   },
   "outputs": [
    {
     "data": {
      "text/plain": [
       "13.0"
      ]
     },
     "execution_count": 5,
     "metadata": {
      "tags": []
     },
     "output_type": "execute_result"
    }
   ],
   "source": [
    "# 1. Llamarlo por su nombre:\n",
    "\n",
    "float_example"
   ]
  },
  {
   "cell_type": "code",
   "execution_count": 18,
   "metadata": {
    "colab": {
     "base_uri": "https://localhost:8080/"
    },
    "id": "f-CY7QosrDqK",
    "outputId": "2af8b6f6-f6fe-4c74-a562-00d75f798807"
   },
   "outputs": [
    {
     "name": "stdout",
     "output_type": "stream",
     "text": [
      "13.0\n",
      "float_example: 13.0\n"
     ]
    }
   ],
   "source": [
    "# 2. Llamarlo con la función print()\n",
    "\n",
    "print(float_example)\n",
    "\n",
    "# con print podemos imprimir diferentes tipos de objetos, separandolos con coma (,)\n",
    "\n",
    "print('float_example:', float_example)"
   ]
  },
  {
   "cell_type": "markdown",
   "metadata": {
    "id": "M-0X1UcRrDqL"
   },
   "source": [
    "<font size=4>\n",
    "\n",
    "Para conocer el tipo de objeto, usamos la función `type( )`:"
   ]
  },
  {
   "cell_type": "code",
   "execution_count": null,
   "metadata": {
    "colab": {
     "base_uri": "https://localhost:8080/"
    },
    "id": "IELkS7h6rDqL",
    "outputId": "3c77d02a-bb83-4ee5-95af-7e4e8063a4cd"
   },
   "outputs": [
    {
     "data": {
      "text/plain": [
       "float"
      ]
     },
     "execution_count": 10,
     "metadata": {
      "tags": []
     },
     "output_type": "execute_result"
    }
   ],
   "source": [
    "type(float_example)"
   ]
  },
  {
   "cell_type": "markdown",
   "metadata": {
    "id": "xNqn7H9zrDqL"
   },
   "source": [
    "<font size=4>\n",
    "\n",
    "La función `type( )` con el argumento `float_example` regresa el tipo *float*, es decir, nos indica que la variable `float_example` es de tipo `float` (real).\n",
    "    \n",
    "___"
   ]
  },
  {
   "cell_type": "markdown",
   "metadata": {
    "id": "zFCkquA0rDqL"
   },
   "source": [
    "<font size=4 color='skyblue'>\n",
    "\n",
    "**Ejercicio**\n",
    "\n",
    "<font color='b'>\n",
    "\n",
    "  Asigna el valor 13 a la variable `integer_example` y determina el tipo de objeto que es usando la función `type( )`."
   ]
  },
  {
   "cell_type": "code",
   "execution_count": 29,
   "metadata": {
    "colab": {
     "base_uri": "https://localhost:8080/"
    },
    "id": "7tbRRa3yrDqM",
    "outputId": "6e896131-fd2c-4731-86d7-572ec4a95e7d"
   },
   "outputs": [
    {
     "data": {
      "text/plain": [
       "int"
      ]
     },
     "execution_count": 29,
     "metadata": {},
     "output_type": "execute_result"
    }
   ],
   "source": [
    "# Escribe el codigo aquí\n",
    "\n",
    "type()"
   ]
  },
  {
   "cell_type": "markdown",
   "metadata": {
    "id": "KJ8Q7u79rDqM"
   },
   "source": [
    "<font size=4 color='rosybrown'>\n",
    "\n",
    "**Observa que en programación 13.0 y 13 son objetos de distinto tipo.**\n",
    "\n",
    "<font color='black'>\n",
    "    \n",
    "13.0 es de tipo `float` (flotante) mientras que 13 es de tipo `int` (entero)."
   ]
  },
  {
   "cell_type": "code",
   "execution_count": 3,
   "metadata": {
    "tags": []
   },
   "outputs": [
    {
     "data": {
      "text/plain": [
       "(int, float)"
      ]
     },
     "execution_count": 3,
     "metadata": {},
     "output_type": "execute_result"
    }
   ],
   "source": [
    "variable_int = 13\n",
    "\n",
    "variable_float = 13.0\n",
    "\n",
    "type(variable_int), type(variable_float)"
   ]
  },
  {
   "cell_type": "markdown",
   "metadata": {},
   "source": [
    "<font size=4>\n",
    "    \n",
    "Los valores flotantes incluyen números con punto decimal y números en notación científica como el siguiente ejemplo:"
   ]
  },
  {
   "cell_type": "code",
   "execution_count": 1,
   "metadata": {
    "colab": {
     "base_uri": "https://localhost:8080/"
    },
    "id": "t2S-_lw5Fb2V",
    "outputId": "b9da041f-ad27-4f88-fc1e-ddac80b40bb4",
    "tags": []
   },
   "outputs": [
    {
     "data": {
      "text/plain": [
       "float"
      ]
     },
     "execution_count": 1,
     "metadata": {},
     "output_type": "execute_result"
    }
   ],
   "source": [
    "variable_cient = 14e-4\n",
    "type(variable_cient )"
   ]
  },
  {
   "cell_type": "markdown",
   "metadata": {
    "id": "eqrbpSIOUyV1"
   },
   "source": [
    "<font size=4 color='royalblue'>\n",
    "\n",
    "# 3. Como usar la función `print()`"
   ]
  },
  {
   "cell_type": "markdown",
   "metadata": {
    "id": "SHEMYTk_RCpr"
   },
   "source": [
    "<font size=4>\n",
    "\n",
    "La función `print()` sirve para mostrar al usuario mediante texto que se imprime en pantalla (de ahí su nombre), para mostrar el contenido de una variable se escribe el nombre de la variable dentro de los parentesis sin comillas, por ejemplo si la variable se llama `var_example` y tiene valor `25.0` al escribir `print(var_example)` se mostrará el mensaje en pantalla `25`."
   ]
  },
  {
   "cell_type": "markdown",
   "metadata": {},
   "source": [
    "<font size=4>\n",
    "\n",
    "¿Que pasa si se desea mostrar el valor de más de una variable? Se escriben las variables dentro del parentesis **separadas por comas**, por ejemplo `print(var_1, var_2, var_3)` mostrará el valor de cada una de las variables por separado.\n",
    "\n",
    "<font size=4 color='rosybrown'>\n",
    "    \n",
    "**Ejemplo**"
   ]
  },
  {
   "cell_type": "code",
   "execution_count": 4,
   "metadata": {
    "tags": []
   },
   "outputs": [
    {
     "name": "stdout",
     "output_type": "stream",
     "text": [
      "13 numero 5.25\n"
     ]
    }
   ],
   "source": [
    "var_1 = 13\n",
    "var_2 = 'numero'\n",
    "var_3 = 5.25\n",
    "\n",
    "print(var_1, var_2, var_3)"
   ]
  },
  {
   "cell_type": "markdown",
   "metadata": {},
   "source": [
    "___"
   ]
  },
  {
   "cell_type": "markdown",
   "metadata": {},
   "source": [
    "<font size=4>\n",
    "\n",
    "Si quiere mostrar el valor de la operación de algunas variables se puede crear una nueva variable con el contenido de la operación, por ejemplo:\n",
    "\n",
    "```\n",
    "var_suma = var_1 + var_2\n",
    "```"
   ]
  },
  {
   "cell_type": "markdown",
   "metadata": {},
   "source": [
    "<font size=4>\n",
    "\n",
    "Esta variable guarda el valor de la suma de las variables 1 y 2, pero esto es una operación muy simple entonces se puede mostrar su valor ya sea usando `print(var_suma)` o sin crear una nueva variable escribiendo directamente la suma dentro de los parentesis:\n",
    "\n",
    "```\n",
    "print(var_1+var_2)\n",
    "```"
   ]
  },
  {
   "cell_type": "code",
   "execution_count": null,
   "metadata": {},
   "outputs": [],
   "source": [
    "# Muestra el valor de la suma de dos variables en las dos formas que se mencionó"
   ]
  },
  {
   "cell_type": "markdown",
   "metadata": {},
   "source": [
    "<font size=4>\n",
    "\n",
    "También se puede mostrar texto que no está en ninguna variable, para esto se escribe el texto que se desea mostrar dentro de comillas simples o dobles (no se pueden combinar) dentro de los parentesis, por ejemplo:"
   ]
  },
  {
   "cell_type": "code",
   "execution_count": 5,
   "metadata": {
    "tags": []
   },
   "outputs": [
    {
     "name": "stdout",
     "output_type": "stream",
     "text": [
      "Hola mundo\n"
     ]
    }
   ],
   "source": [
    "print('Hola mundo')"
   ]
  },
  {
   "cell_type": "markdown",
   "metadata": {},
   "source": [
    "<font size=4>\n",
    "\n",
    "Mostrará el mensaje `Hola mundo` en pantalla. Además se puede combinar variables y texto dentro de la función unicamente escribiendo el texto entre comillas y después el nombre de la variable separado por una coma y fuera de las comillas, por ejemplo:"
   ]
  },
  {
   "cell_type": "code",
   "execution_count": 6,
   "metadata": {
    "tags": []
   },
   "outputs": [
    {
     "name": "stdout",
     "output_type": "stream",
     "text": [
      "Hoy es lunes\n"
     ]
    }
   ],
   "source": [
    "var_day = 'lunes'\n",
    "print('Hoy es', var_day)"
   ]
  },
  {
   "cell_type": "markdown",
   "metadata": {},
   "source": [
    "<font size=4>\n",
    "\n",
    "Mostrará en pantalla el mensaje `Hoy es lunes`.\n",
    "\n",
    "Más adelante se mostrarán más formas de como usar la función `print` y se revisará el concepto de qué es una función."
   ]
  },
  {
   "cell_type": "markdown",
   "metadata": {
    "id": "Psh_hUcpx3vY"
   },
   "source": [
    "<font size=4 color='skyblue'>\n",
    "\n",
    "\n",
    "**Ejercicio**\n",
    "\n",
    "<font color='b'>\n",
    "\n",
    "  Asigna dos variables, una con el nombre de un gato y otra con su edad, después construye una salida donde se obtenga el siguiente mensaje:\n",
    "\n",
    "  ```\n",
    "  'El nombre del gato es <var_nombre> y su edad es <var_edad> años'\n",
    "  ```\n",
    "\n",
    "  Donde `<var_nombre>` y `<var_edad>` pueden ser los nombres de tus variables o puedes nombrarlas de cualquier otra forma. Repite el ejercicio pero multiplicando la edad del gato por 7 de modo que se tenga el resultado:\n",
    "\n",
    "  ```\n",
    "  'El nombre del gato es <var_nombre> y tiene <var_edad multiplicado por 7> años humanos'\n",
    "  ```"
   ]
  },
  {
   "cell_type": "code",
   "execution_count": null,
   "metadata": {},
   "outputs": [],
   "source": [
    "# Haz tu ejercicio aquí"
   ]
  },
  {
   "cell_type": "markdown",
   "metadata": {
    "id": "-Pyo4ShsrDqM"
   },
   "source": [
    "___"
   ]
  },
  {
   "cell_type": "markdown",
   "metadata": {
    "id": "JGDpMTrerDqN"
   },
   "source": [
    "<font size=4 color='royalblue'>\n",
    "\n",
    "# 4. Operaciones matemáticas, lógicas y relacionales."
   ]
  },
  {
   "cell_type": "markdown",
   "metadata": {
    "id": "FvV_Mk1_rDqN"
   },
   "source": [
    "<font size=4 color='rosybrown'>\n",
    "\n",
    "> ## 4.1 Operaciones matemáticas.\n",
    "\n",
    "<font color='black'>\n",
    "\n",
    " En la siguiente tabla se indica el símbolo utilizado para las operaciones matematicas básicas.\n",
    "\n",
    "\n",
    "\n",
    "| Operacion       | Símbolo | Sintaxis | Descripción |\n",
    "|:---|:---:|:--:|:-- |\n",
    "| Suma            | `+`  |`obj1 + obj2`  | Suma de dos números (float o int o ambos) o concanetación |\n",
    "| Resta           | `-`  |`obj1 - obj2`  | Resta de dos números (float o int o ambos) |\n",
    "| Multiplicación  | `*`  |`obj1 * obj2`  | Multiplicación de dos números (float o int o ambos) o multiplicación de cadenas |\n",
    "| División        | `/`  |`dividendo / divisor`  | División de dos números (float o int o ambos) |\n",
    "| División entera | `//` |`dividendo // divisor` | Regresa la parte entera de una división de dos números (float o int o ambos) |\n",
    "| Exponenciación  | `**` | `base ** potencia` | Potencia de un número |\n",
    "| Modulo          | `%`  | `dividendo // divisor` | Regresa el resto de una divisón entera |\n",
    "    \n",
    "<font size=4 color='rosybrown'>\n",
    "    \n",
    " **Ejemplo:**"
   ]
  },
  {
   "cell_type": "code",
   "execution_count": 16,
   "metadata": {
    "colab": {
     "base_uri": "https://localhost:8080/"
    },
    "id": "btkEipsSrDqN",
    "outputId": "077adb25-614a-4970-813b-c4592e5978d5",
    "tags": []
   },
   "outputs": [
    {
     "name": "stdout",
     "output_type": "stream",
     "text": [
      "\n",
      " 11 + 2 = 13 \n",
      " 11 - 2 = 9 \n",
      " 11 * 2 = 22 \n",
      " 11 / 2 = 5.5 \n",
      " 11 // 2 = 5 \n",
      " 11 ** 2 = 121 \n",
      " 11 % 2 = 1\n"
     ]
    }
   ],
   "source": [
    "# se definen la variables x y y con los valores de 11 y 2, respectivamente:\n",
    "\n",
    "x = 11\n",
    "y = 2\n",
    "\n",
    "# Se realizan operaciones entre x y y:\n",
    "\n",
    "suma            = x + y\n",
    "resta           = x - y\n",
    "multiplicacion  = x * y\n",
    "division_real   = x / y\n",
    "division_entera = x // y\n",
    "exponente       = x ** y\n",
    "modulo          = x % y\n",
    "\n",
    "# Se imprimen los resultados de las operaciones anteriores:\n",
    "\n",
    "print('\\n',\n",
    "      x, '+', y, '=', suma, '\\n',\n",
    "      x, '-', y, '=', resta, '\\n',\n",
    "      x, '*', y, '=', multiplicacion, '\\n',\n",
    "      x, '/', y, '=', division_real, '\\n',\n",
    "      x, '//', y, '=', division_entera, '\\n',\n",
    "      x, '**', y, '=', exponente, '\\n',\n",
    "      x, '%', y, '=', modulo)\n"
   ]
  },
  {
   "cell_type": "markdown",
   "metadata": {
    "id": "kZ1IaUUSrDqN"
   },
   "source": [
    "<font size=4 color='cornflowerblue'>\n",
    "\n",
    "**NOTA: El valor de una variable es el último valor asignado.**\n",
    "\n",
    "Por ejemplo, de la celda anterior se tiene que *suma* tiene asociado el valor de 13:"
   ]
  },
  {
   "cell_type": "code",
   "execution_count": null,
   "metadata": {
    "id": "bQrUrBHGrDqN",
    "outputId": "e4276069-a0ec-4f5b-fbda-2d0319599c79"
   },
   "outputs": [
    {
     "data": {
      "text/plain": [
       "13"
      ]
     },
     "execution_count": 21,
     "metadata": {
      "tags": []
     },
     "output_type": "execute_result"
    }
   ],
   "source": [
    "suma"
   ]
  },
  {
   "cell_type": "markdown",
   "metadata": {
    "id": "WU2buhZkrDqO"
   },
   "source": [
    "<font size=4>\n",
    "\n",
    "Se reasigna su valor:"
   ]
  },
  {
   "cell_type": "code",
   "execution_count": null,
   "metadata": {
    "id": "x66zMtwsrDqO"
   },
   "outputs": [],
   "source": [
    "suma = 8"
   ]
  },
  {
   "cell_type": "markdown",
   "metadata": {
    "id": "Gc6Vloj5rDqO"
   },
   "source": [
    "<font size=4>\n",
    "Su valor ahora corresponde al último que se le asignó:"
   ]
  },
  {
   "cell_type": "code",
   "execution_count": 77,
   "metadata": {
    "colab": {
     "base_uri": "https://localhost:8080/"
    },
    "id": "c7EHgdIkrDqO",
    "outputId": "60931bf2-cf72-42a6-84f2-6bde37c04929"
   },
   "outputs": [
    {
     "name": "stdout",
     "output_type": "stream",
     "text": [
      "56\n"
     ]
    }
   ],
   "source": [
    "suma = 8\n",
    "print(suma)"
   ]
  },
  {
   "cell_type": "code",
   "execution_count": 17,
   "metadata": {
    "tags": []
   },
   "outputs": [
    {
     "name": "stdout",
     "output_type": "stream",
     "text": [
      "91\n"
     ]
    }
   ],
   "source": [
    "# Ahora suma vale su valor anterior por 7\n",
    "suma = suma*7\n",
    "print(suma)"
   ]
  },
  {
   "cell_type": "markdown",
   "metadata": {
    "id": "1T-IL2f4rDqP"
   },
   "source": [
    "<font size=4 color='skyblue'>\n",
    "\n",
    "\n",
    "**Ejercicio**\n",
    "\n",
    "<font color='b'>\n",
    "\n",
    "  Define a las variables `a` y `b` con los valores de -5 y 10, respectivamente.\n",
    "\n",
    "  Realiza cada una de las operaciones matemáticas descritas anteriormente.\n",
    "\n",
    "  Muestra los resultados en la pantalla."
   ]
  },
  {
   "cell_type": "code",
   "execution_count": 19,
   "metadata": {
    "colab": {
     "base_uri": "https://localhost:8080/"
    },
    "id": "lX_t2IhmrDqP",
    "outputId": "fa3a5615-7a1a-43da-b599-36284220d074",
    "tags": []
   },
   "outputs": [
    {
     "ename": "SyntaxError",
     "evalue": "invalid syntax (3292739216.py, line 3)",
     "output_type": "error",
     "traceback": [
      "\u001b[0;36m  Cell \u001b[0;32mIn[19], line 3\u001b[0;36m\u001b[0m\n\u001b[0;31m    b =\u001b[0m\n\u001b[0m       ^\u001b[0m\n\u001b[0;31mSyntaxError\u001b[0m\u001b[0;31m:\u001b[0m invalid syntax\n"
     ]
    }
   ],
   "source": [
    "# Escribe el codigo aquí\n",
    "a \n",
    "b =\n",
    "print('La suma de ', a, 'y', b, 'es'             )\n",
    "print('La resta de ', a, 'con', b, 'es'          )\n",
    "print('La division de ', a, 'y', b, 'es'         )\n",
    "print('La division entera de ', a, 'con', b, 'es')\n",
    "print('El modulo de ', a, 'y', b, 'es'           )\n",
    "print('La multiplicacion de ', a, 'y', b, 'es'   )\n",
    "print('El exponente de ', a, 'a la', b, 'es'     )\n"
   ]
  },
  {
   "cell_type": "markdown",
   "metadata": {
    "id": "M4Vv36_wrDqP"
   },
   "source": [
    "<font size=4 color='rosybrown'>\n",
    "\n",
    "> ## 4.2 Operaciones de comparación.\n",
    "\n",
    "<font color='black'>\n",
    "\n",
    "Las operaciones de comparación se realizan entre números o expresiones cuyo resultado es un número y dan como resultados valores de tipo boolean (`True` o `False`).\n",
    "    \n",
    "Si la comparación es verdadera el resultado es `True`, de lo constrario es `False`.\n",
    "\n",
    "A continuación se muestran los símbolos usados para estas operaciones.\n",
    "\n",
    "\n",
    "\n",
    "| Nombre | Símbolo | Síntaxis |\n",
    "|:--- |:---:|:--:|\n",
    "| Igual que         |`==` | `obj1 == obj2` |\n",
    "| Distinto que      |`!=` | `obj1 != obj2` |\n",
    "| Menor que         |`<`  | `obj1 < obj2` |\n",
    "| Menor o igual que |`<=` | `obj1 <= obj2` |\n",
    "| Mayor que         |`>`  | `obj1 > obj2` |\n",
    "| Mayor o igual que |`>=` | `obj1 >= obj2` |\n",
    "    \n",
    "<font size=4 color='rosybrown'>\n",
    "\n",
    "**Ejemplo:**"
   ]
  },
  {
   "cell_type": "code",
   "execution_count": 24,
   "metadata": {
    "colab": {
     "base_uri": "https://localhost:8080/"
    },
    "id": "T_X9uRCCrDqP",
    "outputId": "6fbe9f45-1d84-4be5-b73d-bde42d43e292",
    "tags": []
   },
   "outputs": [
    {
     "name": "stdout",
     "output_type": "stream",
     "text": [
      "\n",
      " 32 == 12 : False \n",
      " 32 != 12 : True \n",
      " 32 < 12  : False \n",
      " 32 <= 12 : False \n",
      " 32 > 12  : True \n",
      " 32 >= 12 : True \n",
      "\n"
     ]
    }
   ],
   "source": [
    "#se define a las variables v1 y v2:\n",
    "\n",
    "v1 = 32\n",
    "v2 = 12\n",
    "\n",
    "# se realizan operaciones de comparación entre v1 y v2:\n",
    "\n",
    "igual       = v1 == v2\n",
    "diferente   = v1 != v2\n",
    "menor       = v1 < v2\n",
    "menor_igual = v1 <= v2\n",
    "mayor       = v1 > v2\n",
    "mayor_igual = v1 >= v2\n",
    "\n",
    "# se imprimen los resultados:\n",
    "\n",
    "print('\\n',v1, '==', v2, ':', igual, '\\n',\n",
    "      v1, '!=', v2, ':', diferente, '\\n',\n",
    "      v1, '<', v2, ' :', menor, '\\n',\n",
    "      v1, '<=', v2, ':', menor_igual, '\\n',\n",
    "      v1, '>', v2, ' :', mayor, '\\n',\n",
    "      v1, '>=', v2, ':', mayor_igual, '\\n',)"
   ]
  },
  {
   "cell_type": "markdown",
   "metadata": {
    "id": "Cpcl4aIqrDqQ"
   },
   "source": [
    "<font size=4 color='skyblue'>\n",
    "\n",
    "\n",
    "**Ejercicio**\n",
    "\n",
    "<font color='b'>\n",
    "\n",
    "  Define a las variables `var1` y `var2` con los valores de -103 y 41, respectivamente.\n",
    "\n",
    "  Realiza cada una de las operaciones de comparación descritas anteriormente.\n",
    "\n",
    "  Muestra los resultados en la pantalla."
   ]
  },
  {
   "cell_type": "code",
   "execution_count": 23,
   "metadata": {
    "colab": {
     "base_uri": "https://localhost:8080/"
    },
    "id": "nV5gCEzsrDqQ",
    "outputId": "7f2976db-441a-4f06-bb15-244d15215436",
    "tags": []
   },
   "outputs": [
    {
     "ename": "SyntaxError",
     "evalue": "invalid syntax (2499318043.py, line 3)",
     "output_type": "error",
     "traceback": [
      "\u001b[0;36m  Cell \u001b[0;32mIn[23], line 3\u001b[0;36m\u001b[0m\n\u001b[0;31m    var2 =\u001b[0m\n\u001b[0m          ^\u001b[0m\n\u001b[0;31mSyntaxError\u001b[0m\u001b[0;31m:\u001b[0m invalid syntax\n"
     ]
    }
   ],
   "source": [
    "# Escribe el codigo aquí\n",
    "var1  \n",
    "var2 =\n",
    "print(var1, '==', var2, ':')\n",
    "print(var1, '!=', var2,':')\n",
    "print(var1, '<', var2, ':')\n",
    "print(var1, '<=', var2, ':')\n",
    "print(var1, '>', var2, ':')\n",
    "print(var1, '>=', var2, ':')\n",
    "\n"
   ]
  },
  {
   "cell_type": "markdown",
   "metadata": {
    "id": "l40xryZqrDqR"
   },
   "source": [
    "<font size=4>\n",
    "\n",
    "\n",
    " <font color='rosybrown'>\n",
    "\n",
    "\n",
    "\n",
    "\n",
    "> ## 4.3 Operadores Lógicos.\n",
    "\n",
    "<font color='black'>\n",
    "\n",
    "Una expresión lógica da como resultado un objeto de tipo `boolean`, es decir, indica si la expresión lógica es verdadera (`True`) o falsa (`False`).\n",
    "\n",
    "Las operaciones logicas se realizan entre variables de tipo boolena y dan como resultado valores de tipo booleano.\n",
    "\n",
    "\n",
    "| Operador | Símbolo | Síntaxis |\n",
    "|:--- |:---:|:--:|\n",
    "| negación | `not` | `bool1 not bool2` |\n",
    "| y        | `and` | `bool1 and bool2` |\n",
    "| o        | `or`  | `bool1 or bool2` |\n",
    "\n",
    "<font color='black'>\n",
    "\n",
    " Para los operadores lógicos se necesita conocer las tablas de verdad de los operadores `and`, `or` y `not`."
   ]
  },
  {
   "cell_type": "markdown",
   "metadata": {},
   "source": [
    "<font size=4>\n",
    "\n",
    "**Tablas de verdad:**\n",
    "\n",
    "Operador `and`:\n",
    "\n",
    "| a | b | a and b |\n",
    "| --- | --- | --- |\n",
    "| True  | True  | True |\n",
    "| True  | False | False |\n",
    "| False | True  | False |\n",
    "| False | False | False |\n",
    "\n",
    "Operador `or`:\n",
    "\n",
    "| a | b | a or b |\n",
    "| --- | --- | --- |\n",
    "| True  | True  | True  |\n",
    "| True  | False | False |\n",
    "| False | True  | False |\n",
    "| False | False | False |\n",
    "\n",
    "Operador `not`:\n",
    "\n",
    "| a | not a |\n",
    "| --- | --- |\n",
    "| True  | False |\n",
    "| False | True |\n",
    "\n",
    "\n",
    "<font size=4 color='rosybrown'>\n",
    "    \n",
    "**Ejemplo:**\n"
   ]
  },
  {
   "cell_type": "code",
   "execution_count": 26,
   "metadata": {
    "id": "teI8hlFprDqR",
    "outputId": "d8043d0c-f87b-4c4a-f380-0f2e637ccd83",
    "tags": []
   },
   "outputs": [
    {
     "data": {
      "text/plain": [
       "True"
      ]
     },
     "execution_count": 26,
     "metadata": {},
     "output_type": "execute_result"
    }
   ],
   "source": [
    "bool1 = True\n",
    "bool2 = False\n",
    "bool3 = False\n",
    "\n",
    "# Se realizan operaciones entre las variables anteriores y se muestra el resultado:\n",
    "\n",
    "bool1 or (bool3 and bool2)"
   ]
  },
  {
   "cell_type": "markdown",
   "metadata": {
    "id": "SZ7a8Li0ywUI"
   },
   "source": [
    "<font size=4 color='skyblue'>\n",
    "\n",
    "\n",
    "**Ejercicio**\n",
    "\n",
    "<font color='b'>\n",
    "    \n",
    "Haz la operación `(a or b ) and (b and (not a))` en los siguientes casos:\n",
    "    \n",
    "+ `a=True`, `b=True`\n",
    "+ `a=False`, `b=False`\n",
    "+ `a=False`, `b=True`\n",
    "    \n",
    "Y muestra el resultado, puedes usar más de una celda de código."
   ]
  },
  {
   "cell_type": "code",
   "execution_count": 27,
   "metadata": {
    "colab": {
     "base_uri": "https://localhost:8080/"
    },
    "id": "VDMS82GqzcKk",
    "outputId": "77702ec9-dfea-408e-9ec9-ab2a5942ee7f",
    "tags": []
   },
   "outputs": [],
   "source": [
    "# Escribe tu código aquí"
   ]
  },
  {
   "cell_type": "markdown",
   "metadata": {
    "id": "KPrt2m22rDqS"
   },
   "source": [
    "<font size=4>\n",
    "\n",
    " El orden en que se realizan las operaciones descritas se muestra en la siguiente tabla:"
   ]
  },
  {
   "cell_type": "markdown",
   "metadata": {
    "id": "0vIxefKrrDqS"
   },
   "source": [
    "<font size=4 color='rosybrown'>\n",
    "\n",
    "> ## 4.4 Jerarquía de operaciones.\n",
    "\n",
    "<font color='black'>\n",
    "\n",
    "En la siguiente tabla se ordenan las operaciones de mayor a menor precedencia.\n",
    "\n",
    "| Operacion | Operador |\n",
    "| :--- | :---: |\n",
    "| exponenciacion | `**` |\n",
    "| producto, division, modulo | `*, /, //, %` |\n",
    "| suma, resta | `+, -` |\n",
    "| menor o igual que | `<=` |\n",
    "| relacionales | `==, !=, <, <=, >, >=` |\n",
    "| logicos | `not, and, or` |\n",
    "\n",
    "<font color='cornflowerblue'>\n",
    "\n",
    "**NOTA:**\n",
    "\n",
    "\n",
    "La precedencia de las operaciones puede verse afectada por los ().\n",
    "\n",
    "Cualquier operación dentro de paréntesis se realizará primero.\n",
    "\n",
    " ___"
   ]
  },
  {
   "cell_type": "markdown",
   "metadata": {},
   "source": [
    "<font size=4 color='skyblue'>\n",
    "\n",
    "Ejercicio\n",
    "    \n",
    "<font color='black'>\n",
    "    \n",
    "Crea una operación con diferentes operadores en una celda de texto y escribe el resultado que crees es el correcto (haciendolo mentalmente), después haz la operación en una celda de código y verifica si el resultado es correcto."
   ]
  },
  {
   "cell_type": "markdown",
   "metadata": {},
   "source": []
  },
  {
   "cell_type": "code",
   "execution_count": null,
   "metadata": {},
   "outputs": [],
   "source": []
  },
  {
   "cell_type": "markdown",
   "metadata": {
    "id": "GPADRDigrDqT"
   },
   "source": [
    "<font size=4 color='royalblue'>\n",
    "\n",
    "# 5. Entrada y salida de datos."
   ]
  },
  {
   "cell_type": "markdown",
   "metadata": {
    "id": "fQhTNrqArDqT"
   },
   "source": [
    "<font size=4>\n",
    "\n",
    "En python se cuenta con la función `input()`, que permite ingresar texto escrito desde el teclado. Al llegar a la función, el programa se detiene esperando que se escriba algo y se pulse la tecla Intro.\n",
    "\n",
    "La función `input()` convierte a string la entrada de datos que recibe.\n",
    "\n",
    "<font size=4 color='rosybrown'>\n",
    "\n",
    "**Ejemplo**"
   ]
  },
  {
   "cell_type": "code",
   "execution_count": null,
   "metadata": {
    "colab": {
     "base_uri": "https://localhost:8080/"
    },
    "id": "TcHmH4r2rDqT",
    "outputId": "1189138e-6bd2-494b-fcb0-b0fe3f4c5192"
   },
   "outputs": [
    {
     "name": "stdout",
     "output_type": "stream",
     "text": [
      "¿Cómo se llama?\n",
      "karen\n",
      "Me alegro de conocerte, karen\n"
     ]
    }
   ],
   "source": [
    "print(\"¿Cómo se llama?\")\n",
    "nombre = input()\n",
    "print(f\"Me alegro de conocerte, {nombre}\")"
   ]
  },
  {
   "cell_type": "markdown",
   "metadata": {},
   "source": [
    "<font size=4 >\n",
    "\n",
    "Observa que al final se usó la función `print()` junto una cadena y se usó el valor de la variale `nombre` que almacena la entrada que se escribió usando el teclado para crear una salida.\n",
    "\n",
    "___"
   ]
  },
  {
   "cell_type": "markdown",
   "metadata": {
    "id": "DoAVbhwwrDqT"
   },
   "source": [
    "<font size=4 color='skyblue'>\n",
    "\n",
    "\n",
    "**Ejercicio**\n",
    "\n",
    "<font color='b'>\n",
    "\n",
    "Usa la función `input()` para solicitar al usuario el nombre de un gato.\n",
    "Después usa nuevamente la función `input()` para solicitar el color del gato.\n",
    "\n",
    "Cuando obtengas el nombre y color muestra un mensaje que diga `El gato <nombre del gato> es <color del gato>`."
   ]
  },
  {
   "cell_type": "code",
   "execution_count": null,
   "metadata": {
    "id": "X0wTCTe3rDqU"
   },
   "outputs": [],
   "source": [
    "# Escribe el codigo aquí\n"
   ]
  },
  {
   "cell_type": "markdown",
   "metadata": {
    "id": "f_FMZm7brDqU"
   },
   "source": [
    "<font size=4>\n",
    "<font color='cornflowerblue'>\n",
    "\n",
    "\n",
    "**NOTA:** La función `input()` interpreta la información que le damos como string, si quieres especficar numeros podemos hacerlo cambiando el tipo de objeto. (p.e. `int(input())` devolvera un entero)\n",
    "    \n",
    "Para convertir un objeto a otro tipo se usan las funciones `int()`, `float()`, `bool()`, `str()` con el objeto que quiere convertir como argumento p.e. `int('5')` convierte la cadena `'5'` al entero `5`.\n",
    "\n",
    "___"
   ]
  },
  {
   "cell_type": "markdown",
   "metadata": {},
   "source": [
    "<font size=4 color='skyblue'>\n",
    "\n",
    "\n",
    "**Ejercicio**\n",
    "\n",
    "<font color='b'>\n",
    "    \n",
    "Usando la función `input()` solicita un número, recuerda que por defecto `input()` devuelve una cadena, entonces convierte la salida a `float` y multiplica el número por `5`. Muestra la salida como `El número es <numero ingresado> y cinco veces el número es <numero multiplicado por 5>`."
   ]
  },
  {
   "cell_type": "code",
   "execution_count": null,
   "metadata": {},
   "outputs": [],
   "source": [
    "# Haz tu ejercicio aquí"
   ]
  },
  {
   "cell_type": "markdown",
   "metadata": {
    "id": "QjRHk55brDqU"
   },
   "source": [
    "___"
   ]
  },
  {
   "cell_type": "markdown",
   "metadata": {
    "id": "2NfuwEo-rDqU"
   },
   "source": [
    "<font size=4 color='royalblue'>\n",
    "\n",
    "# 6. Secuencias: Listas, tuplas y cadenas."
   ]
  },
  {
   "cell_type": "markdown",
   "metadata": {
    "id": "LqCzOH01rDqU"
   },
   "source": [
    "<font size=4>\n",
    "\n",
    "Las secuencias son conjuntos de objetos, estos puedes estar ordenados o no, dependiendo del tipo de secuencia.\n",
    "\n",
    "Hay tres tipos de secuencias en Python: `string`, `list` y `tuple`*.\n",
    "\n",
    "1. `string` (cadena) es un conjunto de caracteres entre comillas, es decir, son colecciones secuenciales de caracteres (están en un orden particular de izquierda a derecha).\n",
    "\n",
    "   `string = 'characteres in quotes'`\n",
    "\n",
    "\n",
    "2. `list` (lista) es una colección secuencial de objetos, donde cada valor se identifica mediante un índice. Los valores que forman a la lista se denominan elementos. Los elementos pueden ser de diferentes tipos como cadenas, enteros, flotantes o incluso otras listas, etc.\n",
    "\n",
    "   `list = [comma separated elements]`\n",
    "\n",
    "\n",
    "3. `tuple` (tupla) es una secuencia de elementos de cualquier tipo. La tupla es inmutable (su contenido no se puede cambiar después de crear la tupla).\n",
    "\n",
    "    `tuple = (comma separated elements)`\n",
    "\n",
    "\n",
    "\n",
    "**Para conocer el número de elementos en una secuencia se usa la función `len( )`.**\n",
    "\n",
    "*En realidad hay una más: set, pero no lo revisaremos en este curso."
   ]
  },
  {
   "cell_type": "markdown",
   "metadata": {
    "id": "nE6O7eW1rDqU"
   },
   "source": [
    "<font color='rosybrown' size =4>\n",
    "\n",
    "> ## 5.1 String.\n"
   ]
  },
  {
   "cell_type": "markdown",
   "metadata": {
    "id": "_X_JEAdlrDqU"
   },
   "source": [
    "\n",
    "<font color='b' size=4>\n",
    "\n",
    " Para definir a una cadena, los caracteres a formarla se deben escribir entre comillas.\n",
    "\n",
    "  Las comillas pueden ser simples o dobles:"
   ]
  },
  {
   "cell_type": "code",
   "execution_count": null,
   "metadata": {
    "id": "XJYy_cU7rDqV"
   },
   "outputs": [],
   "source": [
    "cadena = 'hombros de gigantes'\n",
    "\n",
    "s = \"'no se puede ser feliz por siempre', exclamó\"\n",
    "\n",
    "# Las comillas dobles permiten que la cadena contenga en sí misma comillas, aunque al revés también es valido :)\n",
    "\n",
    "s1 = '\"no se puede ser feliz por siempre\", exclamó'"
   ]
  },
  {
   "cell_type": "markdown",
   "metadata": {
    "id": "5Qi4ip1YrDqV"
   },
   "source": [
    "\n",
    "<font color='b' size=4>\n",
    "\n",
    "Veámos el tipo de objeto que es la variable *cadena*:"
   ]
  },
  {
   "cell_type": "code",
   "execution_count": null,
   "metadata": {
    "colab": {
     "base_uri": "https://localhost:8080/"
    },
    "id": "y0kzXfIBrDqV",
    "outputId": "afe844bb-a906-47a8-ae1f-3eb4fe017ac3"
   },
   "outputs": [
    {
     "data": {
      "text/plain": [
       "str"
      ]
     },
     "execution_count": 14,
     "metadata": {
      "tags": []
     },
     "output_type": "execute_result"
    }
   ],
   "source": [
    "type(cadena)"
   ]
  },
  {
   "cell_type": "markdown",
   "metadata": {
    "id": "C04m9dxmrDqV"
   },
   "source": [
    "\n",
    "<font color='b' size=4>\n",
    "\n",
    "Mostramos en pantalla a la variable *s*:"
   ]
  },
  {
   "cell_type": "code",
   "execution_count": null,
   "metadata": {
    "colab": {
     "base_uri": "https://localhost:8080/",
     "height": 35
    },
    "id": "Q2RotO3ArDqW",
    "outputId": "6f6f4834-895f-43ad-a73e-a20ac560f915"
   },
   "outputs": [
    {
     "data": {
      "application/vnd.google.colaboratory.intrinsic+json": {
       "type": "string"
      },
      "text/plain": [
       "\"'no se puede ser feliz por siempre', exclamó\""
      ]
     },
     "execution_count": 15,
     "metadata": {
      "tags": []
     },
     "output_type": "execute_result"
    }
   ],
   "source": [
    "s"
   ]
  },
  {
   "cell_type": "markdown",
   "metadata": {
    "id": "U0hVO8h1rDqW"
   },
   "source": [
    "\n",
    "<font color='b' size=4>\n",
    "\n",
    " Para definir a una cadena que se pueda escribir en multiples líneas se usan comillas triples:"
   ]
  },
  {
   "cell_type": "code",
   "execution_count": 28,
   "metadata": {
    "colab": {
     "base_uri": "https://localhost:8080/"
    },
    "id": "sP3tknQNrDqW",
    "outputId": "4b0e1884-4866-4997-bb48-62f064ce133f",
    "tags": []
   },
   "outputs": [
    {
     "name": "stdout",
     "output_type": "stream",
     "text": [
      "Esta cadena\n",
      "es multilinea\n",
      "como puedes ver\n"
     ]
    }
   ],
   "source": [
    "print('''Esta cadena\n",
    "es multilinea\n",
    "como puedes ver''')"
   ]
  },
  {
   "cell_type": "markdown",
   "metadata": {
    "id": "qCY7iSoZrDqW"
   },
   "source": [
    "<font size=4>\n",
    "\n",
    "La función `print( )` puede imprimirse con un formato específico:"
   ]
  },
  {
   "cell_type": "code",
   "execution_count": null,
   "metadata": {
    "colab": {
     "base_uri": "https://localhost:8080/"
    },
    "id": "XVZdN9CVrDqW",
    "outputId": "0393719d-d5d1-4e55-f775-ad41b6a99d55"
   },
   "outputs": [
    {
     "name": "stdout",
     "output_type": "stream",
     "text": [
      "manzanas  peras   ciruelas\n"
     ]
    }
   ],
   "source": [
    "print('{:^8} {:^8} {:^8}'.format('manzanas', 'peras', 'ciruelas' ))\n",
    "\n",
    "# 8 indica los espacios a usar para imprimir\n",
    "# ^ se usa para centrar"
   ]
  },
  {
   "cell_type": "code",
   "execution_count": null,
   "metadata": {
    "colab": {
     "base_uri": "https://localhost:8080/"
    },
    "id": "F03sMUMKrDqX",
    "outputId": "47707d53-0a5c-4176-94b5-b1b3337415bc"
   },
   "outputs": [
    {
     "name": "stdout",
     "output_type": "stream",
     "text": [
      "manzanas  peras   ciruelas\n",
      "---------------------------\n",
      "  2.40     3.70     3.10  \n"
     ]
    }
   ],
   "source": [
    "print('{:^8} {:^8} {:^8}'.format('manzanas', 'peras', 'ciruelas'))\n",
    "print('-'*27)\n",
    "\n",
    "print('{:^8.2f} {:^8.2f} {:^8.2f}'.format(2.4, 3.7, 3.1))\n",
    "\n",
    "#.2f indica que se usarán dos lugares para la parte decimal.\n"
   ]
  },
  {
   "cell_type": "markdown",
   "metadata": {
    "id": "gMWz9sHDrDqX"
   },
   "source": [
    "<font size=4 color='skyblue'>\n",
    "\n",
    "\n",
    "**Ejercicio**\n",
    "\n",
    "<font color='b'>\n",
    "\n",
    "  Define a las variables `str_example` como 'Hola mundo!'.\n",
    "\n",
    "  Imprime el valor de la variable que acabas de definir."
   ]
  },
  {
   "cell_type": "code",
   "execution_count": null,
   "metadata": {
    "id": "8BT-uFT8rDqX"
   },
   "outputs": [],
   "source": [
    "# Escribe el codigo aquí\n"
   ]
  },
  {
   "cell_type": "markdown",
   "metadata": {
    "id": "Zsjq5MVGrDqX"
   },
   "source": [
    "<font size=4 color='rosybrown'>\n",
    "\n",
    "> ### Indexación"
   ]
  },
  {
   "cell_type": "markdown",
   "metadata": {
    "id": "H_OAd9CQrDqX"
   },
   "source": [
    "<font size=4>\n",
    "\n",
    "Las secuencias son conjuntos de elementos ordenados. Para identificar el orden, cada elemento se indexa, es decir, se le asocia un índice.\n",
    "\n",
    "Lo elementos de una secuencia se indexan de izquierda a derecha comenzando en cero.\n",
    "\n",
    "También se pueden indexar de derecha a izquierda comenzando en -1.\n",
    "\n",
    " En la siguiente tabla se muestran las dos formas en que se puede indexar una secuencia (en este caso se muestra para un *string*).\n",
    "\n",
    "\n",
    "| h | o | m | b | r | o | s |   | d | e |   | g | i | g | a | n | t | e | s |\n",
    "| --- |--- |--- |--- |--- |--- |--- |--- |--- |--- |--- |--- |--- |--- |--- |--- |--- |--- |--- |\n",
    "| 0 | 1 | 2 | 3 | 4 | 5 | 6 | 7 | 8 | 9 | 10 | 11 | 12 | 13 | 14 | 15 | 16 | 17 | 18 |\n",
    "| -19 |-18 | -17 | -16 | -15 | -14 | -13 | -12 | -11 | -10 | -9 | -8 | -7 | -6 | -5 | -4 | -3 | -2 | -1 |\n",
    "\n",
    "En las secuencias, se tiene el operador de índice, que sirve para seleccionar un solo elemento o un conjunto de elementos específicos de una secuencia.\n",
    "\n",
    "Para indicar el elemento al cual se quiere seleccionar se usa la siguiente sintaxis:\n",
    "\n",
    " **`secuencia[index]`**\n",
    "\n",
    " en donde *index* corresponde al numero de índice del elemento a seleccionar.\n",
    "\n"
   ]
  },
  {
   "cell_type": "markdown",
   "metadata": {
    "id": "oHKEThqyrDqX"
   },
   "source": [
    "<font color='cornflowerblue' size=4>\n",
    "\n",
    " **NOTA:**\n",
    "\n",
    " En python se inicia indexando en cero. ¡No lo olvides!"
   ]
  },
  {
   "cell_type": "markdown",
   "metadata": {
    "id": "VRlyHRpzrDqY"
   },
   "source": [
    "<font size=4>\n",
    "\n",
    " Por ejemplo, para seleccionar la primera *e* del string *cadena*  se usa:"
   ]
  },
  {
   "cell_type": "code",
   "execution_count": null,
   "metadata": {
    "id": "0VnFEb7arDqY",
    "outputId": "66789522-8c32-4718-88a7-727c2f0394eb"
   },
   "outputs": [
    {
     "data": {
      "text/plain": [
       "'e'"
      ]
     },
     "execution_count": 36,
     "metadata": {
      "tags": []
     },
     "output_type": "execute_result"
    }
   ],
   "source": [
    "# recuerda que cadena = 'hombros de gigantes'\n",
    "\n",
    "cadena[9]\n",
    "\n",
    "#usando la indexación de derecha a izquierda se usa:\n",
    "#cadena[-10]"
   ]
  },
  {
   "cell_type": "markdown",
   "metadata": {
    "id": "J-ovM_LgrDqY"
   },
   "source": [
    "<font size=4>\n",
    "\n",
    "Para seleccionar un conjunto de elementos de una secuencia se usa la siguiente sintaxis:\n",
    "\n",
    "**`secuencia[n:m]`**\n",
    "\n",
    "  en donde n es el índice inicial desde el cual se va a seleccionar al conjunto de elementos (correspondiente al elemento n) y m es el índice final correspondiente al elemento m-1.\n",
    "\n",
    "\n",
    " Por ejemplo, a continuación se seleccionan del elemento 2 al elemento 4 del string *cadena*:"
   ]
  },
  {
   "cell_type": "code",
   "execution_count": null,
   "metadata": {
    "colab": {
     "base_uri": "https://localhost:8080/",
     "height": 35
    },
    "id": "1GKAptbJrDqY",
    "outputId": "9d0e4f33-1f47-4b4e-a245-02c1fdd72c8e"
   },
   "outputs": [
    {
     "data": {
      "application/vnd.google.colaboratory.intrinsic+json": {
       "type": "string"
      },
      "text/plain": [
       "'mbr'"
      ]
     },
     "execution_count": 19,
     "metadata": {
      "tags": []
     },
     "output_type": "execute_result"
    }
   ],
   "source": [
    "# al indice derecho siempre se le resta 1\n",
    "\n",
    "cadena[2:5]"
   ]
  },
  {
   "cell_type": "markdown",
   "metadata": {
    "id": "MXB7Fq-HrDqY"
   },
   "source": [
    "<font size=4>\n",
    "\n",
    "**`secuencia[:m]`**\n",
    "\n",
    " Selecciona desde el primer elemento hasta el elemento indexado con m-1.\n",
    "\n",
    " En el siguiente ejemplo se selecciona desde el primer elemento hasta el elemento 6:"
   ]
  },
  {
   "cell_type": "code",
   "execution_count": null,
   "metadata": {
    "id": "-OstmFaarDqY",
    "outputId": "fba58c99-ee25-4f2f-ca18-ef2b6345ddba"
   },
   "outputs": [
    {
     "data": {
      "text/plain": [
       "'hombros'"
      ]
     },
     "execution_count": 38,
     "metadata": {
      "tags": []
     },
     "output_type": "execute_result"
    }
   ],
   "source": [
    "cadena[:7]"
   ]
  },
  {
   "cell_type": "markdown",
   "metadata": {
    "id": "aopL21perDqZ"
   },
   "source": [
    "<font size=4>\n",
    "\n",
    "**`secuencia[n:]`**\n",
    "\n",
    " Selecciona desde el elemento indexado con n hasta el último elemento.\n",
    "\n",
    " En el ejemplo, se selecciona desde el elemento 7 hasta el final:"
   ]
  },
  {
   "cell_type": "code",
   "execution_count": null,
   "metadata": {
    "id": "ahqoV6SlrDqZ",
    "outputId": "756db92c-a1eb-4aab-f4b3-c10ecd9052b0"
   },
   "outputs": [
    {
     "data": {
      "text/plain": [
       "' de gigantes'"
      ]
     },
     "execution_count": 39,
     "metadata": {
      "tags": []
     },
     "output_type": "execute_result"
    }
   ],
   "source": [
    "cadena[7:]"
   ]
  },
  {
   "cell_type": "markdown",
   "metadata": {
    "id": "5YeuNiLbrDqZ"
   },
   "source": [
    "<font size=4>\n",
    "\n",
    "**`secuencia[:]`**\n",
    "\n",
    " Selecciona a todos los elementos de la secuencia."
   ]
  },
  {
   "cell_type": "code",
   "execution_count": null,
   "metadata": {
    "id": "K5AEUzN-rDqZ",
    "outputId": "ba34a6a9-434f-44ad-d658-422dd75cb7f4"
   },
   "outputs": [
    {
     "data": {
      "text/plain": [
       "'hombros de gigantes'"
      ]
     },
     "execution_count": 41,
     "metadata": {
      "tags": []
     },
     "output_type": "execute_result"
    }
   ],
   "source": [
    "cadena[:]\n",
    "\n",
    "# es lo mismo que solo llamar a la variable cadena"
   ]
  },
  {
   "cell_type": "markdown",
   "metadata": {
    "id": "gsYpaBgorDqZ"
   },
   "source": [
    "<font size=4 color='skyblue'>\n",
    "\n",
    "\n",
    "**Ejercicio**\n",
    "\n",
    "<font color='b'>\n",
    "\n",
    "  De la variable `str_example` que definiste en el ejercicio anterior, imprime la palabra *mundo*."
   ]
  },
  {
   "cell_type": "code",
   "execution_count": null,
   "metadata": {
    "id": "w4QJVCnirDqa"
   },
   "outputs": [],
   "source": [
    "# Escribe el codigo aquí\n"
   ]
  },
  {
   "cell_type": "markdown",
   "metadata": {
    "id": "1HRtX5PfrDqa"
   },
   "source": [
    "<font size=4 color='rosybrown'>\n",
    "\n",
    "> ### Concatenación"
   ]
  },
  {
   "cell_type": "markdown",
   "metadata": {
    "id": "-1oIMgXJrDqa"
   },
   "source": [
    "<font size=4>\n",
    "\n",
    "El operador `+` aplicado a secuencias se usa para concatenar, es decir, para unir a las secuencias.\n",
    "\n",
    "**Ejemplo:**\n"
   ]
  },
  {
   "cell_type": "code",
   "execution_count": null,
   "metadata": {
    "id": "SI5j9gNMrDqa",
    "outputId": "ee1226ef-2053-4198-bf4a-63a7299a6a53"
   },
   "outputs": [
    {
     "data": {
      "text/plain": [
       "'Hola mundo '"
      ]
     },
     "execution_count": 42,
     "metadata": {
      "tags": []
     },
     "output_type": "execute_result"
    }
   ],
   "source": [
    "# se definen dos variables de tipo string:\n",
    "\n",
    "str1 = 'Hola'\n",
    "str2 = ' mundo '\n",
    "\n",
    "# se concatenan los string str1 y str2:\n",
    "\n",
    "conc = str1 + str2\n",
    "\n",
    "# Las secuencias se unen respetando el orden en que se concatenaron:\n",
    "\n",
    "conc"
   ]
  },
  {
   "cell_type": "markdown",
   "metadata": {
    "id": "opQ5X0TerDqb"
   },
   "source": [
    "<font size=4>\n",
    "\n",
    "Python no puede concatenar diferentes tipos de objetos, es decir, las listas se concatenan con listas, las cadenas se concatenan con cadenas, etc.\n",
    "\n"
   ]
  },
  {
   "cell_type": "markdown",
   "metadata": {
    "id": "lQOqPECDrDqb"
   },
   "source": [
    "<font size=4 color='skyblue'>\n",
    "\n",
    "\n",
    "**Ejercicio**\n",
    "\n",
    "<font color='b'>\n",
    "\n",
    "  Define un string como 'soy Karen' y concatenalo con la variable `str_example`. Cambia la cadena Karen por tu nombre."
   ]
  },
  {
   "cell_type": "code",
   "execution_count": null,
   "metadata": {
    "id": "DBiQANBorDqb"
   },
   "outputs": [],
   "source": [
    "# Escribe el codigo aquí\n"
   ]
  },
  {
   "cell_type": "markdown",
   "metadata": {
    "id": "sWtgM7L2rDqb"
   },
   "source": [
    "<font size=4 color='rosybrown'>\n",
    "\n",
    "> ### Repetición"
   ]
  },
  {
   "cell_type": "markdown",
   "metadata": {
    "id": "s7LW-auMrDqb"
   },
   "source": [
    "<font size=4>\n",
    "\n",
    "El operador `*` aplicado a secuencias se usa para repetir un elemento o un conjunto de elementos de la secuencia.\n",
    "\n",
    " **Ejemplo:**"
   ]
  },
  {
   "cell_type": "code",
   "execution_count": null,
   "metadata": {
    "id": "s-fDtDCCrDqb",
    "outputId": "c7d70518-d77c-4f75-9e31-86f3fee3a7ad"
   },
   "outputs": [
    {
     "data": {
      "text/plain": [
       "'Hola mundo Hola mundo Hola mundo '"
      ]
     },
     "execution_count": 43,
     "metadata": {
      "tags": []
     },
     "output_type": "execute_result"
    }
   ],
   "source": [
    "# El string conc se repite 3 veces:\n",
    "\n",
    "conc*3"
   ]
  },
  {
   "cell_type": "markdown",
   "metadata": {
    "id": "oZq5tM9arDqc"
   },
   "source": [
    "<font size=4 color='rosybrown'>\n",
    "\n",
    "> ### Funciones de conversión de tipo."
   ]
  },
  {
   "cell_type": "markdown",
   "metadata": {
    "id": "Hi0256XSrDqc"
   },
   "source": [
    "<font size=4>\n",
    "\n",
    "Python tiene tres funciones de conversión de tipo:\n",
    "\n",
    "  `int(x)`:x puede ser un numero de coma flotante\n",
    "\n",
    "  `float(x)`: x puede ser entero, flotante o cadena numérica\n",
    "\n",
    "  `str(x)`: x puede ser de cualquier tipo\n",
    "\n",
    "\n",
    " **Ejemplo:**\n",
    "\n",
    " A continuación se convierte el objeto de tipo int a un objeto de tipo float:"
   ]
  },
  {
   "cell_type": "code",
   "execution_count": null,
   "metadata": {
    "id": "U7FHzVFPrDqc",
    "outputId": "f6e97919-99b1-44ee-94b8-c359a43e7ff5"
   },
   "outputs": [
    {
     "data": {
      "text/plain": [
       "13"
      ]
     },
     "execution_count": 45,
     "metadata": {
      "tags": []
     },
     "output_type": "execute_result"
    }
   ],
   "source": [
    "#13.0 es de tipo float, con int() se cambia a tipo entero\n",
    "\n",
    "int(13.0)"
   ]
  },
  {
   "cell_type": "code",
   "execution_count": null,
   "metadata": {
    "colab": {
     "base_uri": "https://localhost:8080/"
    },
    "id": "HemZSL-GrDqc",
    "outputId": "9eb2d525-055a-445e-bf47-894d0dfbd5e7"
   },
   "outputs": [
    {
     "name": "stdout",
     "output_type": "stream",
     "text": [
      "<class 'int'>\n",
      "<class 'float'>\n"
     ]
    }
   ],
   "source": [
    "x = 13\n",
    "print(type(x))\n",
    "\n",
    "x = float(x)\n",
    "print(type(x))"
   ]
  },
  {
   "cell_type": "markdown",
   "metadata": {
    "id": "nhAUXa-vrDqc"
   },
   "source": [
    "<font size=4 color='skyblue'>\n",
    "\n",
    "\n",
    "**Ejercicio**\n",
    "\n",
    "<font color='b'>\n",
    "\n",
    "  Define a una variable de tipo integer y conviertela en tipo float.\n",
    "\n",
    "  Define a una variable de tipo integer y conviertela en tipo string."
   ]
  },
  {
   "cell_type": "code",
   "execution_count": null,
   "metadata": {
    "id": "W4VGZFs9rDqd"
   },
   "outputs": [],
   "source": [
    "# Escribe el codigo aquí\n"
   ]
  },
  {
   "cell_type": "markdown",
   "metadata": {
    "id": "I8Rd-EE9rDqd"
   },
   "source": [
    "<font color='rosybrown' size =4>\n",
    "\n",
    "> ## 5.2 List.\n"
   ]
  },
  {
   "cell_type": "markdown",
   "metadata": {
    "id": "-b2ngiAWrDqd"
   },
   "source": [
    "<font size=4>\n",
    "\n",
    "Las listas se definen entre corchetes:\n",
    "\n",
    "**Ejemplo:**"
   ]
  },
  {
   "cell_type": "code",
   "execution_count": null,
   "metadata": {
    "id": "ROx_rZ5orDqd"
   },
   "outputs": [],
   "source": [
    "lista = [1, 5, 7, 3, 5, 0]\n",
    "\n",
    "# Los elementos de la lista son: 1, 5, 7, 3, 5 y 0"
   ]
  },
  {
   "cell_type": "markdown",
   "metadata": {
    "id": "_Xsib58_rbyq"
   },
   "source": [
    "Cada elemento de la lista tiene un ídice: comenzando en cero si se indexa de izquiera a derecha. (se indexa de la misma manera que las cadenas)."
   ]
  },
  {
   "cell_type": "code",
   "execution_count": null,
   "metadata": {
    "colab": {
     "base_uri": "https://localhost:8080/"
    },
    "id": "jCEssEaXrDqd",
    "outputId": "2a8202b9-eba2-40fe-91f9-9cdf2c6b1f95"
   },
   "outputs": [
    {
     "data": {
      "text/plain": [
       "0"
      ]
     },
     "execution_count": 23,
     "metadata": {
      "tags": []
     },
     "output_type": "execute_result"
    }
   ],
   "source": [
    "lista[-1]"
   ]
  },
  {
   "cell_type": "markdown",
   "metadata": {
    "id": "ZgZ-ETAMrDqd"
   },
   "source": [
    "<font size=4 color='rosybrown'>\n",
    "\n",
    "> ### Indexación de listas:"
   ]
  },
  {
   "cell_type": "markdown",
   "metadata": {
    "id": "D8NUJIH6rDqe"
   },
   "source": [
    "<font size=4>\n",
    "\n",
    "  Se sigue la misma estructura que la descrita para string.\n",
    "\n",
    "  **Ejemplo**"
   ]
  },
  {
   "cell_type": "code",
   "execution_count": null,
   "metadata": {
    "colab": {
     "base_uri": "https://localhost:8080/"
    },
    "id": "QfFuKo7UrDqe",
    "outputId": "4c7b532b-55ba-412e-ddbc-54738b913849"
   },
   "outputs": [
    {
     "name": "stdout",
     "output_type": "stream",
     "text": [
      "El elemento indexado con 4 de la lista es: 5\n",
      "Los elementos indexados de 1 a 4 son: [5, 7, 3, 5]\n",
      "Los primeros tres elementos son: [1, 5, 7]\n",
      "Los últimos dos elementos son: [5, 0]\n"
     ]
    }
   ],
   "source": [
    "print('El elemento indexado con 4 de la lista es:', lista[4])\n",
    "print('Los elementos indexados de 1 a 4 son:', lista[1:5])\n",
    "print('Los primeros tres elementos son:', lista[:3])\n",
    "print('Los últimos dos elementos son:', lista[4:])"
   ]
  },
  {
   "cell_type": "markdown",
   "metadata": {
    "id": "EpGEplvhrDqe"
   },
   "source": [
    "<font size=4 color='rosybrown'>\n",
    "\n",
    "> ### Concatenación de listas:"
   ]
  },
  {
   "cell_type": "code",
   "execution_count": null,
   "metadata": {
    "id": "sNBch2rHrDqe",
    "outputId": "5fe4048e-04fc-4db4-fe32-82c619e3d7e6"
   },
   "outputs": [
    {
     "data": {
      "text/plain": [
       "[1, 5, 7, 3, 5, 0, 12, 34, 56]"
      ]
     },
     "execution_count": 51,
     "metadata": {
      "tags": []
     },
     "output_type": "execute_result"
    }
   ],
   "source": [
    "# lista = [1, 5, 7, 3, 5, 0]\n",
    "\n",
    "lista2 = [12, 34, 56]\n",
    "\n",
    "conc_listas = lista + lista2\n",
    "conc_listas2 = lista2 + lista\n",
    "\n",
    "# se respeta el orden en que se concatenan las listas:\n",
    "\n",
    "conc_listas"
   ]
  },
  {
   "cell_type": "markdown",
   "metadata": {
    "id": "-Vvfn6QDrDqf"
   },
   "source": [
    "<font size=4 color='skyblue'>\n",
    "\n",
    "\n",
    "**Ejercicio**\n",
    "\n",
    "<font color='b'>\n",
    "\n",
    "  Define a las listas `a = [23, 67.89, 0.3]` y `b = ['ñ', 'j', 'str0']` y concatenalas."
   ]
  },
  {
   "cell_type": "code",
   "execution_count": null,
   "metadata": {
    "id": "G2dTE4XFrDqf"
   },
   "outputs": [],
   "source": [
    "# Escribe el codigo aquí\n"
   ]
  },
  {
   "cell_type": "markdown",
   "metadata": {
    "id": "uMy52kpYrDqf"
   },
   "source": [
    "<font size=4 color='rosybrown'>\n",
    "\n",
    "> ### Repetición de listas:"
   ]
  },
  {
   "cell_type": "markdown",
   "metadata": {
    "id": "vKhT2DgXrDqg"
   },
   "source": [
    "<font size=4>\n",
    "\n",
    "\n",
    "  Cada elemento de la lista se repite el número de veces indicado."
   ]
  },
  {
   "cell_type": "code",
   "execution_count": null,
   "metadata": {
    "id": "FN-wOOeXrDqg",
    "outputId": "4df40f68-cc5f-4ad5-d2e6-6a6f6ce92e4b"
   },
   "outputs": [
    {
     "data": {
      "text/plain": [
       "[1, 5, 7, 3, 5, 0, 1, 5, 7, 3, 5, 0]"
      ]
     },
     "execution_count": 52,
     "metadata": {
      "tags": []
     },
     "output_type": "execute_result"
    }
   ],
   "source": [
    "lista*2"
   ]
  },
  {
   "cell_type": "markdown",
   "metadata": {
    "id": "WIT-XVxCrDqg"
   },
   "source": [
    "<font size=4>\n",
    "\n",
    "\n",
    "No se altera a la variable inicial:"
   ]
  },
  {
   "cell_type": "code",
   "execution_count": null,
   "metadata": {
    "id": "HEjEc3AjrDqg",
    "outputId": "d18d78a8-0b8a-463e-ea86-8e9b620e44a5"
   },
   "outputs": [
    {
     "data": {
      "text/plain": [
       "[1, 5, 7, 3, 5, 0]"
      ]
     },
     "execution_count": 53,
     "metadata": {
      "tags": []
     },
     "output_type": "execute_result"
    }
   ],
   "source": [
    "lista"
   ]
  },
  {
   "cell_type": "markdown",
   "metadata": {
    "id": "_0M-G3E5rDqh"
   },
   "source": [
    "<font size=4 color='rosybrown'>\n",
    "\n",
    "> ### In- Buitl Functions."
   ]
  },
  {
   "cell_type": "markdown",
   "metadata": {
    "id": "XhfOEJ92rDqh"
   },
   "source": [
    "<font size=4>\n",
    "\n",
    " Estas son las funciones que Python nos proporciona, para usarlas solo hay que mandar a llamarlas.\n",
    "\n",
    " Las siguientes funciones se puede aplicar a las listas:\n",
    "\n",
    " `sum()`:  suma cada uno de los elementos de la lista.\n",
    "\n",
    " `max()`: obtiene el máximo de la lista.\n",
    "\n",
    "  `min()`: obtiene el mínimo de la lista.\n",
    "\n",
    "  `sorted()`: Ordena a los elementos de una lista. Si los elementos de una lista son números los ordena de menor a mayor, si son cadenas las ordena alfabéticamente.\n",
    "\n",
    "   Las funciones no alteran a la lista, solo generan un nuevo resultado.\n",
    "\n",
    "\n",
    "  A continuación se ven ejemplos de cada una de las funciones citadas anteriormente."
   ]
  },
  {
   "cell_type": "code",
   "execution_count": null,
   "metadata": {
    "id": "nInnb9IArDqh",
    "outputId": "9c4d16c5-84fd-4239-cd7c-f4595804ad90"
   },
   "outputs": [
    {
     "data": {
      "text/plain": [
       "21"
      ]
     },
     "execution_count": 54,
     "metadata": {
      "tags": []
     },
     "output_type": "execute_result"
    }
   ],
   "source": [
    "# Recordemos que definimos a lista=[1, 5, 7, 3, 5, 0]\n",
    "\n",
    "sum(lista)\n",
    "\n",
    "# nos regresa la suma de los elementos: 1+5+7+3+5+0"
   ]
  },
  {
   "cell_type": "code",
   "execution_count": null,
   "metadata": {
    "id": "gFO5MX4HrDqh",
    "outputId": "408aa587-039b-4e0b-dcc4-4616d6a1fea5"
   },
   "outputs": [
    {
     "data": {
      "text/plain": [
       "0"
      ]
     },
     "execution_count": 55,
     "metadata": {
      "tags": []
     },
     "output_type": "execute_result"
    }
   ],
   "source": [
    "min(lista)\n",
    "\n",
    "# En el caso de que los elementos de una lista sean numeros entonces nos regresara el menor de ellos:"
   ]
  },
  {
   "cell_type": "code",
   "execution_count": null,
   "metadata": {
    "id": "VwpMJ4y9rDqh",
    "outputId": "93b0551e-8621-4c86-e296-0d39993f2719"
   },
   "outputs": [
    {
     "data": {
      "text/plain": [
       "7"
      ]
     },
     "execution_count": 56,
     "metadata": {
      "tags": []
     },
     "output_type": "execute_result"
    }
   ],
   "source": [
    "max(lista)\n",
    "\n",
    "# En el caso de que los elementos de una lista sean numeros entonces nos regresara el mayor de ellos:"
   ]
  },
  {
   "cell_type": "code",
   "execution_count": null,
   "metadata": {
    "id": "qf-p1YU8rDqi",
    "outputId": "bf1d1c81-f85a-48d0-bbfa-cee7454ca4ad"
   },
   "outputs": [
    {
     "data": {
      "text/plain": [
       "[0, 1, 3, 5, 5, 7]"
      ]
     },
     "execution_count": 57,
     "metadata": {
      "tags": []
     },
     "output_type": "execute_result"
    }
   ],
   "source": [
    "sorted(lista)\n",
    "\n",
    "# ordena a los elementos de una lista"
   ]
  },
  {
   "cell_type": "markdown",
   "metadata": {
    "id": "j1rh_6oLrDqi"
   },
   "source": [
    "<font size=4>\n",
    "\n",
    "Ninguna de las funciones anteriores altera a la variable *lista*:"
   ]
  },
  {
   "cell_type": "code",
   "execution_count": null,
   "metadata": {
    "id": "r4zgi4worDqi",
    "outputId": "f9f58519-c026-42be-8d9e-99bb05df39e6"
   },
   "outputs": [
    {
     "data": {
      "text/plain": [
       "[1, 5, 7, 3, 5, 0]"
      ]
     },
     "execution_count": 58,
     "metadata": {
      "tags": []
     },
     "output_type": "execute_result"
    }
   ],
   "source": [
    "lista"
   ]
  },
  {
   "cell_type": "markdown",
   "metadata": {
    "id": "iKNDXNWjrDqi"
   },
   "source": [
    "<font size=4 color='rosybrown'>\n",
    "\n",
    "> ### Atributos y Métodos.\n",
    "\n",
    "Los atributos definen el estado del objeto mientras que los métodos definen su comportamiento."
   ]
  },
  {
   "cell_type": "markdown",
   "metadata": {
    "id": "2tnpdPKMrDqi"
   },
   "source": [
    "<font size=4>\n",
    "\n",
    "Las listas tienen los siguientes métodos:\n",
    "\n",
    "   `.sort()`: Ordena a los elementos de la lista de menor a mayor en caso de ser números y alfabéticamente en caso de ser cadenas.\n",
    "\n",
    " `.append(x)`: agrega el elemento x al final de la lista.\n",
    "\n",
    "  `.extend([x, y])`: agrega mas de un elemento al final de la lista. En este caso agrega a *x* y a *y*.\n",
    "\n",
    "   `.insert(index, element)`: agrega al elemento *element* en la posición determinada por el ínidice *index*.\n",
    "\n",
    "   `.reverse()`: Voltea el orden de los elementos de la lista.\n",
    "\n",
    "   `.pop(index)`: elimina al elemento identificado con el indice *index*.\n",
    "\n",
    "   `.index(a)`: encuentra el índice del elemento a en la lista.\n",
    "\n",
    "   `.clear()`: Elimina a todos los elementos de la lista.\n",
    "\n",
    "\n",
    "\n",
    " Los métodos cambian al objeto.\n",
    "\n",
    " **Ejemplos**"
   ]
  },
  {
   "cell_type": "code",
   "execution_count": null,
   "metadata": {
    "id": "rP9f8y-drDqj",
    "outputId": "29950c9c-6a48-4831-8123-853217b4d8e9"
   },
   "outputs": [
    {
     "name": "stdout",
     "output_type": "stream",
     "text": [
      "La lista inicial es: [1, 5, 7, 3, 5, 0]\n",
      "La lista final es: [0, 1, 3, 5, 5, 7]\n"
     ]
    }
   ],
   "source": [
    "print('La lista inicial es:', lista)\n",
    "\n",
    "# ordenamos a los elementos:\n",
    "\n",
    "lista.sort()\n",
    "\n",
    "print('La lista final es:', lista)"
   ]
  },
  {
   "cell_type": "code",
   "execution_count": null,
   "metadata": {
    "id": "W8k7Ty86rDqj",
    "outputId": "6c1e055f-c3de-4ea3-af1e-f364759fb81a"
   },
   "outputs": [
    {
     "name": "stdout",
     "output_type": "stream",
     "text": [
      "La lista inicial es: [0, 1, 3, 5, 5, 7]\n",
      "La lista final es: [0, 1, 3, 5, 5, 7, 'Hola']\n"
     ]
    }
   ],
   "source": [
    "print('La lista inicial es:', lista)\n",
    "\n",
    "# se agrega el elemento 'Hola' al final de la lista:\n",
    "\n",
    "lista.append('Hola')\n",
    "\n",
    "print('La lista final es:', lista)"
   ]
  },
  {
   "cell_type": "code",
   "execution_count": null,
   "metadata": {
    "id": "UgRO3pSTrDqj",
    "outputId": "1a234261-e7d4-4a38-fb8d-d27f8cfde924"
   },
   "outputs": [
    {
     "name": "stdout",
     "output_type": "stream",
     "text": [
      "La lista inicial es: [0, 1, 3, 5, 5, 7, 'Hola']\n",
      "La lista final es: [0, 1, 3, 5, 5, 7, 'Hola', 'Python', 3.7]\n"
     ]
    }
   ],
   "source": [
    "print('La lista inicial es:', lista)\n",
    "\n",
    "# Se agregan los elementos 'Python' y 3.7 al final de la lista:\n",
    "\n",
    "lista.extend(['Python', 3.7])\n",
    "\n",
    "print('La lista final es:', lista)"
   ]
  },
  {
   "cell_type": "code",
   "execution_count": null,
   "metadata": {
    "id": "lgWp1HthrDqj",
    "outputId": "45b1290e-dd80-4942-e966-338dd0b5c93c"
   },
   "outputs": [
    {
     "name": "stdout",
     "output_type": "stream",
     "text": [
      "La lista inicial es: [0, 1, 3, 5, 5, 7, 'Hola', 'Python', 3.7]\n",
      "La lista final es: [0, 'insert', 1, 3, 5, 5, 7, 'Hola', 'Python', 3.7]\n"
     ]
    }
   ],
   "source": [
    "print('La lista inicial es:', lista)\n",
    "\n",
    "# Se grega al elemento 'insert' en el índice 1:\n",
    "\n",
    "lista.insert(1, 'insert')\n",
    "\n",
    "print('La lista final es:', lista)"
   ]
  },
  {
   "cell_type": "code",
   "execution_count": null,
   "metadata": {
    "id": "d_F2HNDYrDqk",
    "outputId": "7e0d03ec-b7e9-4a8e-c94f-aee150bee349"
   },
   "outputs": [
    {
     "name": "stdout",
     "output_type": "stream",
     "text": [
      "La lista inicial es: [0, 'insert', 1, 3, 5, 5, 7, 'Hola', 'Python', 3.7]\n",
      "La lista final es: [3.7, 'Python', 'Hola', 7, 5, 5, 3, 1, 'insert', 0]\n"
     ]
    }
   ],
   "source": [
    "print('La lista inicial es:', lista)\n",
    "\n",
    "# se invierte el orden de los elementos:\n",
    "\n",
    "lista.reverse()\n",
    "\n",
    "print('La lista final es:', lista)"
   ]
  },
  {
   "cell_type": "code",
   "execution_count": null,
   "metadata": {
    "id": "Mety4YuUrDqk",
    "outputId": "9d8697f3-2b2e-40d9-d398-fcea29225e75"
   },
   "outputs": [
    {
     "name": "stdout",
     "output_type": "stream",
     "text": [
      "La lista inicial es: [3.7, 'Python', 'Hola', 7, 5, 5, 3, 1, 'insert', 0]\n",
      "La lista final es: [3.7, 'Python', 'Hola', 7, 5, 5, 3, 1, 'insert']\n"
     ]
    }
   ],
   "source": [
    "print('La lista inicial es:', lista)\n",
    "\n",
    "# se elimina al último elemento de la lista:\n",
    "\n",
    "lista.pop(-1)\n",
    "\n",
    "print('La lista final es:', lista)"
   ]
  },
  {
   "cell_type": "code",
   "execution_count": null,
   "metadata": {
    "id": "zFGcNQqjrDqk",
    "outputId": "b94c2062-b444-4ee1-c5e9-43e3129cdcf7"
   },
   "outputs": [
    {
     "data": {
      "text/plain": [
       "2"
      ]
     },
     "execution_count": 65,
     "metadata": {
      "tags": []
     },
     "output_type": "execute_result"
    }
   ],
   "source": [
    "# se obtiene el índice del elemento 'Hola':\n",
    "\n",
    "lista.index('Hola')"
   ]
  },
  {
   "cell_type": "code",
   "execution_count": null,
   "metadata": {
    "id": "WwDOUl-KrDqk",
    "outputId": "9157858c-577e-467d-dc44-1ae5ef44d52c"
   },
   "outputs": [
    {
     "name": "stdout",
     "output_type": "stream",
     "text": [
      "La lista inicial es: [3.7, 'Python', 'Hola', 7, 5, 5, 3, 1, 'insert']\n",
      "La lista final es: []\n"
     ]
    }
   ],
   "source": [
    "print('La lista inicial es:', lista)\n",
    "\n",
    "# se eliminan todos los elementos de la lista:\n",
    "\n",
    "lista.clear()\n",
    "\n",
    "print('La lista final es:', lista)"
   ]
  },
  {
   "cell_type": "markdown",
   "metadata": {
    "id": "gJ9s2J0WrDqk"
   },
   "source": [
    "<font size=4 color='skyblue'>\n",
    "\n",
    "\n",
    "**Ejercicio**\n",
    "\n",
    "<font color='b'>\n",
    "\n",
    "  Define a la lista `a = [23, 17, 9, 36]` y obten el promedio de sus elementos."
   ]
  },
  {
   "cell_type": "code",
   "execution_count": null,
   "metadata": {
    "id": "RZxt1tNCrDql"
   },
   "outputs": [],
   "source": [
    "# Escribe el codigo aquí\n"
   ]
  },
  {
   "cell_type": "markdown",
   "metadata": {
    "id": "HPh9u4f1rDql"
   },
   "source": [
    "<font color='rosybrown' size =4>\n",
    "\n",
    "> ## 5.3 Tupla\n"
   ]
  },
  {
   "cell_type": "markdown",
   "metadata": {
    "id": "9Mvk7_uCrDql"
   },
   "source": [
    "<font size=4>\n",
    "\n",
    " Las tuplas se definene entre paréntesis y son inmutables.\n",
    "\n",
    "  Las funciones descritas para las listas también se pueden aplicar a las tuplas.\n",
    "\n",
    "   Las tuplas no tienen métodos, pues son inmutables.\n",
    "\n",
    "   **Ejemplos**"
   ]
  },
  {
   "cell_type": "code",
   "execution_count": null,
   "metadata": {
    "id": "9WawoG17rDql"
   },
   "outputs": [],
   "source": [
    "# se define a la tupla (1, 4, 2)\n",
    "\n",
    "tupla=(1, 4, 2)"
   ]
  },
  {
   "cell_type": "code",
   "execution_count": null,
   "metadata": {
    "id": "zFVmT-q7rDql",
    "outputId": "86f4af2d-ef3d-4d1f-aca8-3d862c04d7b0"
   },
   "outputs": [
    {
     "data": {
      "text/plain": [
       "7"
      ]
     },
     "execution_count": 68,
     "metadata": {
      "tags": []
     },
     "output_type": "execute_result"
    }
   ],
   "source": [
    "# se suman los elementos de la tupla: 1+2+4\n",
    "\n",
    "sum(tupla)"
   ]
  },
  {
   "cell_type": "code",
   "execution_count": null,
   "metadata": {
    "id": "LrCFzSJQrDql",
    "outputId": "c55a0a21-04c1-4ddb-c8d9-71b38f592618"
   },
   "outputs": [
    {
     "data": {
      "text/plain": [
       "1"
      ]
     },
     "execution_count": 69,
     "metadata": {
      "tags": []
     },
     "output_type": "execute_result"
    }
   ],
   "source": [
    "# En el caso de que los elementos de una lista sean numeros entonces nos regresara el menor de ellos:\n",
    "\n",
    "min(tupla)"
   ]
  },
  {
   "cell_type": "code",
   "execution_count": null,
   "metadata": {
    "id": "3axIksigrDqm",
    "outputId": "4e8a5afe-38a6-496b-eda0-5699c64f2ef7"
   },
   "outputs": [
    {
     "data": {
      "text/plain": [
       "4"
      ]
     },
     "execution_count": 70,
     "metadata": {
      "tags": []
     },
     "output_type": "execute_result"
    }
   ],
   "source": [
    "# En el caso de que los elementos de una lista sean numeros entonces nos regresara el mayor de ellos:\n",
    "\n",
    "max(tupla)"
   ]
  },
  {
   "cell_type": "code",
   "execution_count": null,
   "metadata": {
    "id": "Eqq1Zj5HrDqm",
    "outputId": "f4360dc7-32c2-4b34-d76d-336e8cac97f8"
   },
   "outputs": [
    {
     "data": {
      "text/plain": [
       "[1, 2, 4]"
      ]
     },
     "execution_count": 71,
     "metadata": {
      "tags": []
     },
     "output_type": "execute_result"
    }
   ],
   "source": [
    "# ordena a los elementos de la tupla y la convierte en lista:\n",
    "\n",
    "sorted(tupla)"
   ]
  },
  {
   "cell_type": "markdown",
   "metadata": {
    "id": "HI4zH2vWrDqn"
   },
   "source": [
    "<font size=4>\n",
    "\n",
    " La tupla permanece inalterada:"
   ]
  },
  {
   "cell_type": "code",
   "execution_count": null,
   "metadata": {
    "id": "ycd0pY43rDqn",
    "outputId": "ff137618-2919-4522-d8f8-b0e899b99faf"
   },
   "outputs": [
    {
     "data": {
      "text/plain": [
       "(1, 4, 2)"
      ]
     },
     "execution_count": 72,
     "metadata": {
      "tags": []
     },
     "output_type": "execute_result"
    }
   ],
   "source": [
    "tupla"
   ]
  },
  {
   "cell_type": "markdown",
   "metadata": {
    "id": "8qZafUYBrDqn"
   },
   "source": [
    "___"
   ]
  },
  {
   "cell_type": "markdown",
   "metadata": {
    "id": "-CdAATh2rDqo"
   },
   "source": [
    "<font size=4 color='royalblue'>\n",
    "\n",
    " # 6. Diccionarios."
   ]
  },
  {
   "cell_type": "markdown",
   "metadata": {
    "id": "IEtngj21rDqo"
   },
   "source": [
    "<font size=4>\n",
    "\n",
    " Un diccionario es un objeto de Python que se define como un conjunto de keywords-values.\n",
    "\n",
    " Se definen entre llaves.\n",
    "\n",
    " `dic = {}`\n",
    "\n",
    "  Los valores pueden ser de cualquier tipo (int, float, str, boolean, list, etc).\n",
    "\n",
    "  Los diccionarios no tienen un orden."
   ]
  },
  {
   "cell_type": "code",
   "execution_count": null,
   "metadata": {
    "id": "cmrVx8jzrDqo"
   },
   "outputs": [],
   "source": [
    "# creando un diccionario vacío:\n",
    "\n",
    "# manera 1:\n",
    "\n",
    "dic1 = {}\n",
    "\n",
    "# manera 2:\n",
    "\n",
    "dic2 = dict()"
   ]
  },
  {
   "cell_type": "markdown",
   "metadata": {
    "id": "WOU56p1zrDqo"
   },
   "source": [
    "<font size=4>\n",
    "\n",
    "Al crear un diccionario se puede definir directamente las palabras clave y sus respectivos valores:"
   ]
  },
  {
   "cell_type": "code",
   "execution_count": null,
   "metadata": {
    "id": "wYTSXB96rDqo"
   },
   "outputs": [],
   "source": [
    "dicc = {'a': (1, 2, 4), 'b': 5}"
   ]
  },
  {
   "cell_type": "markdown",
   "metadata": {
    "id": "PU9y6iOxrDqp"
   },
   "source": [
    "<font size=4>\n",
    "\n",
    " El diccionario *dicc* se definió con dos keywords, ambas de tipo string: 'a' y 'b'.\n",
    "\n",
    "     El valor asignado a 'a' es la tupla (1, 2, 4).\n",
    "\n",
    "     El valor asignado a 'b' es el entero 5.\n",
    "\n",
    " Los diccionarios tienen los atributos\n",
    "\n",
    "  `.keys()`: indica los keywords del diccionario.\n",
    "\n",
    "  `.values()`: indica los valores del diccionario.\n",
    "\n",
    "  `.items()`: indica a los keywords y a los values.\n",
    "\n"
   ]
  },
  {
   "cell_type": "markdown",
   "metadata": {
    "id": "OlMK7RSkrDqp"
   },
   "source": [
    "<font size=4>\n",
    "\n",
    "Las palabras clave del diccionario *dicc* son:\n"
   ]
  },
  {
   "cell_type": "code",
   "execution_count": null,
   "metadata": {
    "id": "Kh18Jm8UrDqp",
    "outputId": "91daf19b-fcae-4c4b-c20c-0998114b105d"
   },
   "outputs": [
    {
     "data": {
      "text/plain": [
       "dict_keys(['a', 'b'])"
      ]
     },
     "execution_count": 78,
     "metadata": {
      "tags": []
     },
     "output_type": "execute_result"
    }
   ],
   "source": [
    "dicc.keys()"
   ]
  },
  {
   "cell_type": "markdown",
   "metadata": {
    "id": "nr7mwOs1rDqp"
   },
   "source": [
    "<font size=4>\n",
    "\n",
    "Los valores del diccionario *dicc* son:\n"
   ]
  },
  {
   "cell_type": "code",
   "execution_count": null,
   "metadata": {
    "id": "pKZJQNuGrDqp",
    "outputId": "cd6c86b4-bf94-4cf4-818a-d6bea105f0ca"
   },
   "outputs": [
    {
     "data": {
      "text/plain": [
       "dict_values([(1, 2, 4), 5])"
      ]
     },
     "execution_count": 79,
     "metadata": {
      "tags": []
     },
     "output_type": "execute_result"
    }
   ],
   "source": [
    "dicc.values()"
   ]
  },
  {
   "cell_type": "markdown",
   "metadata": {
    "id": "lAZI10k2rDqp"
   },
   "source": [
    "<font size=4>\n",
    "\n",
    "Las palabras clave y sus respectivos valores del diccionario *dicc* son:\n"
   ]
  },
  {
   "cell_type": "code",
   "execution_count": null,
   "metadata": {
    "id": "ZiT73T2NrDqq",
    "outputId": "fcd0d91f-63cf-4288-b944-370d9e74ac3b"
   },
   "outputs": [
    {
     "data": {
      "text/plain": [
       "dict_items([('a', (1, 2, 4)), ('b', 5)])"
      ]
     },
     "execution_count": 80,
     "metadata": {
      "tags": []
     },
     "output_type": "execute_result"
    }
   ],
   "source": [
    "dicc.items()"
   ]
  },
  {
   "cell_type": "markdown",
   "metadata": {
    "id": "_TjDMXLXrDqq"
   },
   "source": [
    "<font size=4>\n",
    "\n",
    "Para obtener el valor de un determinado keyword se usa la siguiente sintaxis:\n",
    "\n",
    " `name_dict[name_keyword]`\n",
    "\n",
    "    o\n",
    "\n",
    "  `name_dict.get(name_keyword)`\n",
    "\n",
    " Se obtiene el valor del keyword 'a':"
   ]
  },
  {
   "cell_type": "code",
   "execution_count": null,
   "metadata": {
    "id": "d-jAoVyHrDqq",
    "outputId": "a04780df-0fe3-4a6d-a955-be307438d535"
   },
   "outputs": [
    {
     "data": {
      "text/plain": [
       "(1, 2, 4)"
      ]
     },
     "execution_count": 81,
     "metadata": {
      "tags": []
     },
     "output_type": "execute_result"
    }
   ],
   "source": [
    "dicc['a']"
   ]
  },
  {
   "cell_type": "code",
   "execution_count": null,
   "metadata": {
    "id": "0yzh0asBrDqo",
    "outputId": "61bff2b5-5248-42ab-8361-f1492a08cc6f"
   },
   "outputs": [
    {
     "ename": "KeyError",
     "evalue": "5",
     "output_type": "error",
     "traceback": [
      "\u001b[0;31m---------------------------------------------------------------------------\u001b[0m",
      "\u001b[0;31mKeyError\u001b[0m                                  Traceback (most recent call last)",
      "\u001b[0;32m<ipython-input-77-58fcd417ce0e>\u001b[0m in \u001b[0;36m<module>\u001b[0;34m\u001b[0m\n\u001b[0;32m----> 1\u001b[0;31m \u001b[0mdicc\u001b[0m\u001b[0;34m[\u001b[0m\u001b[0;36m5\u001b[0m\u001b[0;34m]\u001b[0m\u001b[0;34m\u001b[0m\u001b[0;34m\u001b[0m\u001b[0m\n\u001b[0m",
      "\u001b[0;31mKeyError\u001b[0m: 5"
     ]
    }
   ],
   "source": [
    "#se muestra un error porque 5 no es una keyword es un value\n",
    "\n",
    "dicc[5]"
   ]
  },
  {
   "cell_type": "markdown",
   "metadata": {
    "id": "tle67ss2rDqq"
   },
   "source": [
    "<font size=4>\n",
    "\n",
    "Para agregar keywords a un diccionario se usa la siguiente sintáxis:\n",
    "\n",
    " `name_dict[name_keyword] = value`\n",
    "\n"
   ]
  },
  {
   "cell_type": "code",
   "execution_count": null,
   "metadata": {
    "id": "kNZnG-GPrDqq"
   },
   "outputs": [],
   "source": [
    "dicc['new_keyword'] = 'Hey'"
   ]
  },
  {
   "cell_type": "markdown",
   "metadata": {
    "id": "SEo5exLarDqr"
   },
   "source": [
    "<font size=4>\n",
    "\n",
    "Veámos:\n"
   ]
  },
  {
   "cell_type": "code",
   "execution_count": null,
   "metadata": {
    "id": "eaSBpk-_rDqr",
    "outputId": "10ff7af7-441d-433a-cca7-3f74e38c58a3"
   },
   "outputs": [
    {
     "data": {
      "text/plain": [
       "{'a': (1, 2, 4), 'b': 5, 'new_keyword': 'Hey'}"
      ]
     },
     "execution_count": 83,
     "metadata": {
      "tags": []
     },
     "output_type": "execute_result"
    }
   ],
   "source": [
    "dicc"
   ]
  },
  {
   "cell_type": "markdown",
   "metadata": {
    "id": "nnggSV08rDqr"
   },
   "source": [
    "<font size=4>\n",
    "\n",
    "Para eliminar keywords de un diccionario se usa la siguiente sintáxis:\n",
    "\n",
    "\n",
    "``del name_dict[name_keyword]``\n",
    "\n",
    " y se elimina junto con su respectivo valor.\n",
    "\n"
   ]
  },
  {
   "cell_type": "code",
   "execution_count": null,
   "metadata": {
    "id": "gv3XUTgrrDqr"
   },
   "outputs": [],
   "source": [
    "del dicc['new_keyword']"
   ]
  },
  {
   "cell_type": "markdown",
   "metadata": {
    "id": "sayDT5AKrDqr"
   },
   "source": [
    "<font size=4>\n",
    "\n",
    "Veámos:\n"
   ]
  },
  {
   "cell_type": "code",
   "execution_count": null,
   "metadata": {
    "id": "gRv-U_Y9rDqr",
    "outputId": "6d5cf3a2-8c2c-499a-c3f2-b1c0daae0f86"
   },
   "outputs": [
    {
     "data": {
      "text/plain": [
       "{'a': (1, 2, 4), 'b': 5}"
      ]
     },
     "execution_count": 85,
     "metadata": {
      "tags": []
     },
     "output_type": "execute_result"
    }
   ],
   "source": [
    "dicc"
   ]
  },
  {
   "cell_type": "markdown",
   "metadata": {
    "id": "TDbwjinwrDqs"
   },
   "source": [
    "<font size=4>\n",
    "\n",
    "Se puede hacer que un diccionario sea bidireccional, es decir, que cada keyword sea también un value y que cada value sea también un keyword.\n"
   ]
  },
  {
   "cell_type": "code",
   "execution_count": null,
   "metadata": {
    "id": "x4ECdwE9rDqs"
   },
   "outputs": [],
   "source": [
    "dicc.update( dict((dicc[k], k) for k in dicc))"
   ]
  },
  {
   "cell_type": "code",
   "execution_count": null,
   "metadata": {
    "id": "lAO90HjRrDqs",
    "outputId": "62c73de2-a0b0-4dcb-fb05-1ad8f7f3b72f"
   },
   "outputs": [
    {
     "data": {
      "text/plain": [
       "'b'"
      ]
     },
     "execution_count": 88,
     "metadata": {
      "tags": []
     },
     "output_type": "execute_result"
    }
   ],
   "source": [
    "dicc[5]"
   ]
  },
  {
   "cell_type": "markdown",
   "metadata": {
    "id": "9yc5BhaYrDqs"
   },
   "source": [
    "<font size=4 color='skyblue'>\n",
    "\n",
    "\n",
    "**Ejercicio**\n",
    "\n",
    "<font color='b'>\n",
    "\n",
    "  1. Define el diccionario `dicc_example` con las siguientes caracteristicas:\n",
    "\n",
    "\n",
    "\n",
    "      palabras clave: 'Christian', 'Iván', 'Daniel', 'Evelyn', 'Oscar', 'José'\n",
    "\n",
    "      valores correspondientes: 35, 31, 22, 24, 23, 25\n",
    "\n",
    "\n",
    "  2. Agrega el keyword que corresponda a tu nombre con el valor correspondiente a tu edad.\n",
    "\n",
    "\n",
    "\n",
    "  3. Muestra el diccionario en pantalla.\n"
   ]
  },
  {
   "cell_type": "code",
   "execution_count": null,
   "metadata": {
    "id": "sg1b7BdjrDqt"
   },
   "outputs": [],
   "source": [
    "# Escribe el codigo aquí\n"
   ]
  },
  {
   "cell_type": "markdown",
   "metadata": {
    "id": "ckDs5fB1rDqt"
   },
   "source": [
    "<font color='cornflowerblue' size=4>\n",
    "\n",
    "\n",
    "**NOTA:**\n",
    "\n",
    "Recuerda que solo practicando se aprende, a lo largo del curso ¡pondremos en práctica todo lo aprendido!.\n",
    "\n",
    "___"
   ]
  }
 ],
 "metadata": {
  "celltoolbar": "Raw Cell Format",
  "colab": {
   "collapsed_sections": [
    "0vIxefKrrDqS"
   ],
   "name": "i-Introduccion-Python.ipynb",
   "provenance": []
  },
  "kernelspec": {
   "display_name": "Python 3 (ipykernel)",
   "language": "python",
   "name": "python3"
  },
  "language_info": {
   "codemirror_mode": {
    "name": "ipython",
    "version": 3
   },
   "file_extension": ".py",
   "mimetype": "text/x-python",
   "name": "python",
   "nbconvert_exporter": "python",
   "pygments_lexer": "ipython3",
   "version": "3.11.3"
  }
 },
 "nbformat": 4,
 "nbformat_minor": 4
}
